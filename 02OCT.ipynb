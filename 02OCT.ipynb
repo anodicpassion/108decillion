{
 "cells": [
  {
   "cell_type": "code",
   "execution_count": 13,
   "id": "cd1330c5-05e0-47c6-8dbd-8a45cc1c0151",
   "metadata": {
    "editable": true,
    "slideshow": {
     "slide_type": ""
    },
    "tags": []
   },
   "outputs": [],
   "source": [
    "import pandas as pd\n",
    "import numpy as np"
   ]
  },
  {
   "cell_type": "code",
   "execution_count": 14,
   "id": "19b181d7-b0b6-41f1-b1da-ed73f9e478ea",
   "metadata": {
    "scrolled": true
   },
   "outputs": [
    {
     "data": {
      "text/plain": [
       "Index(['Date', 'Open', 'High', 'Low', 'Close', 'Jaw ‌Alligator‌',\n",
       "       'Teeth ‌Alligator', 'Lips ‌Alligator', 'MA5', 'MA15', 'Volume',\n",
       "       'Volume Change Percentage'],\n",
       "      dtype='object')"
      ]
     },
     "execution_count": 14,
     "metadata": {},
     "output_type": "execute_result"
    }
   ],
   "source": [
    "data = pd.read_csv('data/zeel/ZEEL (20240930093400000 _ 20240925105700000).csv')\n",
    "data.columns"
   ]
  },
  {
   "cell_type": "code",
   "execution_count": 15,
   "id": "361cafdf-eadc-4eef-a97d-7c0da4981c39",
   "metadata": {},
   "outputs": [],
   "source": [
    "from sklearn.preprocessing import MinMaxScaler"
   ]
  },
  {
   "cell_type": "code",
   "execution_count": 16,
   "id": "20d41132-aba8-48ad-be14-c21c46bfd17f",
   "metadata": {},
   "outputs": [],
   "source": [
    "scaler = MinMaxScaler()\n",
    "scaled_features = scaler.fit_transform(data[['Open', 'High', 'Low', 'Close', 'Jaw ‌Alligator‌',\n",
    "       'Teeth ‌Alligator', 'Lips ‌Alligator', 'MA5', 'MA15', 'Volume',\n",
    "       'Volume Change Percentage']])\n"
   ]
  },
  {
   "cell_type": "code",
   "execution_count": 17,
   "id": "7efdf1ad-574c-43f9-8fb3-e6b6f4ff30c3",
   "metadata": {},
   "outputs": [
    {
     "data": {
      "text/plain": [
       "array([[9.69932105e-04, 9.56937799e-04, 2.95275591e-03, ...,\n",
       "        8.32466181e-03, 4.16963334e-03, 1.17070622e-03],\n",
       "       [0.00000000e+00, 4.78468900e-03, 7.87401575e-03, ...,\n",
       "        9.36524454e-03, 9.43041934e-03, 4.69991548e-04],\n",
       "       [2.90979631e-03, 3.82775120e-03, 5.90551181e-03, ...,\n",
       "        8.32466181e-03, 8.81410586e-03, 1.38189723e-03],\n",
       "       ...,\n",
       "       [6.60523763e-01, 6.65071770e-01, 6.71259843e-01, ...,\n",
       "        7.44016649e-01, 6.13525148e-02, 2.45534979e-03],\n",
       "       [6.69253152e-01, 6.65071770e-01, 6.70275591e-01, ...,\n",
       "        7.37773153e-01, 6.26633385e-02, 1.62930403e-03],\n",
       "       [6.69253152e-01, 6.60287081e-01, 6.70275591e-01, ...,\n",
       "        7.32570239e-01, 7.26154122e-02, 2.49319326e-03]])"
      ]
     },
     "execution_count": 17,
     "metadata": {},
     "output_type": "execute_result"
    }
   ],
   "source": [
    "scaled_features"
   ]
  },
  {
   "cell_type": "code",
   "execution_count": 18,
   "id": "252a9d5b-6a9e-4c21-b502-7ae04319ffd5",
   "metadata": {},
   "outputs": [],
   "source": [
    "def create_sequences(data, input_steps=5, output_steps=3):\n",
    "    X, y = [], []\n",
    "    for i in range(len(data) - input_steps - output_steps + 1):\n",
    "        X.append(data[i:i+input_steps])\n",
    "        y.append(data[i+input_steps:i+input_steps+output_steps])\n",
    "    return np.array(X), np.array(y)"
   ]
  },
  {
   "cell_type": "code",
   "execution_count": 19,
   "id": "d3a7fdf6-bc18-48dc-87c7-6bac586c9b0d",
   "metadata": {
    "scrolled": true
   },
   "outputs": [
    {
     "data": {
      "text/plain": [
       "(array([[[9.69932105e-04, 9.56937799e-04, 2.95275591e-03, ...,\n",
       "          8.32466181e-03, 4.16963334e-03, 1.17070622e-03],\n",
       "         [0.00000000e+00, 4.78468900e-03, 7.87401575e-03, ...,\n",
       "          9.36524454e-03, 9.43041934e-03, 4.69991548e-04],\n",
       "         [2.90979631e-03, 3.82775120e-03, 5.90551181e-03, ...,\n",
       "          8.32466181e-03, 8.81410586e-03, 1.38189723e-03],\n",
       "         [0.00000000e+00, 0.00000000e+00, 5.90551181e-03, ...,\n",
       "          6.24349636e-03, 2.19722443e-03, 7.81284652e-05],\n",
       "         [9.69932105e-04, 4.78468900e-03, 5.90551181e-03, ...,\n",
       "          3.12174818e-03, 5.26850278e-03, 9.17602547e-04]],\n",
       " \n",
       "        [[0.00000000e+00, 4.78468900e-03, 7.87401575e-03, ...,\n",
       "          9.36524454e-03, 9.43041934e-03, 4.69991548e-04],\n",
       "         [2.90979631e-03, 3.82775120e-03, 5.90551181e-03, ...,\n",
       "          8.32466181e-03, 8.81410586e-03, 1.38189723e-03],\n",
       "         [0.00000000e+00, 0.00000000e+00, 5.90551181e-03, ...,\n",
       "          6.24349636e-03, 2.19722443e-03, 7.81284652e-05],\n",
       "         [9.69932105e-04, 4.78468900e-03, 5.90551181e-03, ...,\n",
       "          3.12174818e-03, 5.26850278e-03, 9.17602547e-04],\n",
       "         [3.87972842e-03, 1.43540670e-02, 0.00000000e+00, ...,\n",
       "          2.08116545e-03, 2.74367533e-02, 5.29930730e-03]],\n",
       " \n",
       "        [[2.90979631e-03, 3.82775120e-03, 5.90551181e-03, ...,\n",
       "          8.32466181e-03, 8.81410586e-03, 1.38189723e-03],\n",
       "         [0.00000000e+00, 0.00000000e+00, 5.90551181e-03, ...,\n",
       "          6.24349636e-03, 2.19722443e-03, 7.81284652e-05],\n",
       "         [9.69932105e-04, 4.78468900e-03, 5.90551181e-03, ...,\n",
       "          3.12174818e-03, 5.26850278e-03, 9.17602547e-04],\n",
       "         [3.87972842e-03, 1.43540670e-02, 0.00000000e+00, ...,\n",
       "          2.08116545e-03, 2.74367533e-02, 5.29930730e-03],\n",
       "         [1.55189137e-02, 2.20095694e-02, 7.87401575e-03, ...,\n",
       "          0.00000000e+00, 3.61068126e-02, 1.58267111e-02]],\n",
       " \n",
       "        ...,\n",
       " \n",
       "        [[7.33268671e-01, 7.33971292e-01, 7.17519685e-01, ...,\n",
       "          7.80437045e-01, 1.76223984e-01, 3.21954384e-03],\n",
       "         [7.12900097e-01, 7.02392344e-01, 6.71259843e-01, ...,\n",
       "          7.76274714e-01, 1.52014388e-01, 8.57337830e-03],\n",
       "         [6.83802134e-01, 6.79425837e-01, 6.73228346e-01, ...,\n",
       "          7.72112383e-01, 1.04634389e-01, 3.75871163e-03],\n",
       "         [6.60523763e-01, 6.72727273e-01, 6.70275591e-01, ...,\n",
       "          7.67950052e-01, 1.53870531e-01, 4.80205217e-03],\n",
       "         [6.68283220e-01, 6.72727273e-01, 6.70275591e-01, ...,\n",
       "          7.59625390e-01, 1.11491005e-01, 3.09502659e-03]],\n",
       " \n",
       "        [[7.12900097e-01, 7.02392344e-01, 6.71259843e-01, ...,\n",
       "          7.76274714e-01, 1.52014388e-01, 8.57337830e-03],\n",
       "         [6.83802134e-01, 6.79425837e-01, 6.73228346e-01, ...,\n",
       "          7.72112383e-01, 1.04634389e-01, 3.75871163e-03],\n",
       "         [6.60523763e-01, 6.72727273e-01, 6.70275591e-01, ...,\n",
       "          7.67950052e-01, 1.53870531e-01, 4.80205217e-03],\n",
       "         [6.68283220e-01, 6.72727273e-01, 6.70275591e-01, ...,\n",
       "          7.59625390e-01, 1.11491005e-01, 3.09502659e-03],\n",
       "         [6.59553831e-01, 6.72727273e-01, 6.70275591e-01, ...,\n",
       "          7.53381894e-01, 4.95684777e-02, 1.56053471e-03]],\n",
       " \n",
       "        [[6.83802134e-01, 6.79425837e-01, 6.73228346e-01, ...,\n",
       "          7.72112383e-01, 1.04634389e-01, 3.75871163e-03],\n",
       "         [6.60523763e-01, 6.72727273e-01, 6.70275591e-01, ...,\n",
       "          7.67950052e-01, 1.53870531e-01, 4.80205217e-03],\n",
       "         [6.68283220e-01, 6.72727273e-01, 6.70275591e-01, ...,\n",
       "          7.59625390e-01, 1.11491005e-01, 3.09502659e-03],\n",
       "         [6.59553831e-01, 6.72727273e-01, 6.70275591e-01, ...,\n",
       "          7.53381894e-01, 4.95684777e-02, 1.56053471e-03],\n",
       "         [6.60523763e-01, 6.71770335e-01, 6.75196850e-01, ...,\n",
       "          7.47138398e-01, 6.30409463e-02, 2.58963309e-03]]]),\n",
       " array([[[0.00387973, 0.01435407, 0.        , ..., 0.00208117,\n",
       "          0.02743675, 0.00529931],\n",
       "         [0.01551891, 0.02200957, 0.00787402, ..., 0.        ,\n",
       "          0.03610681, 0.01582671],\n",
       "         [0.00193986, 0.02392344, 0.01181102, ..., 0.00104058,\n",
       "          0.03838429, 0.00532494]],\n",
       " \n",
       "        [[0.01551891, 0.02200957, 0.00787402, ..., 0.        ,\n",
       "          0.03610681, 0.01582671],\n",
       "         [0.00193986, 0.02392344, 0.01181102, ..., 0.00104058,\n",
       "          0.03838429, 0.00532494],\n",
       "         [0.03491756, 0.05741627, 0.04330709, ..., 0.00208117,\n",
       "          0.0771215 , 0.02773601]],\n",
       " \n",
       "        [[0.00193986, 0.02392344, 0.01181102, ..., 0.00104058,\n",
       "          0.03838429, 0.00532494],\n",
       "         [0.03491756, 0.05741627, 0.04330709, ..., 0.00208117,\n",
       "          0.0771215 , 0.02773601],\n",
       "         [0.06983511, 0.16172249, 0.07677165, ..., 0.01144641,\n",
       "          0.33187298, 0.24721515]],\n",
       " \n",
       "        ...,\n",
       " \n",
       "        [[0.65955383, 0.67272727, 0.67027559, ..., 0.75338189,\n",
       "          0.04956848, 0.00156053],\n",
       "         [0.66052376, 0.67177033, 0.67519685, ..., 0.7471384 ,\n",
       "          0.06304095, 0.00258963],\n",
       "         [0.66052376, 0.66507177, 0.67125984, ..., 0.74401665,\n",
       "          0.06135251, 0.00245535]],\n",
       " \n",
       "        [[0.66052376, 0.67177033, 0.67519685, ..., 0.7471384 ,\n",
       "          0.06304095, 0.00258963],\n",
       "         [0.66052376, 0.66507177, 0.67125984, ..., 0.74401665,\n",
       "          0.06135251, 0.00245535],\n",
       "         [0.66925315, 0.66507177, 0.67027559, ..., 0.73777315,\n",
       "          0.06266334, 0.0016293 ]],\n",
       " \n",
       "        [[0.66052376, 0.66507177, 0.67125984, ..., 0.74401665,\n",
       "          0.06135251, 0.00245535],\n",
       "         [0.66925315, 0.66507177, 0.67027559, ..., 0.73777315,\n",
       "          0.06266334, 0.0016293 ],\n",
       "         [0.66925315, 0.66028708, 0.67027559, ..., 0.73257024,\n",
       "          0.07261541, 0.00249319]]]))"
      ]
     },
     "execution_count": 19,
     "metadata": {},
     "output_type": "execute_result"
    }
   ],
   "source": [
    "X, y = create_sequences(scaled_features)\n",
    "X, y"
   ]
  },
  {
   "cell_type": "code",
   "execution_count": 20,
   "id": "1f229fe3-890b-4e11-b326-f1a66af074de",
   "metadata": {},
   "outputs": [],
   "source": [
    "split = int(0.8 * len(X))\n",
    "X_train, X_test = X[:split], X[split:]\n",
    "y_train, y_test = y[:split], y[split:]"
   ]
  },
  {
   "cell_type": "code",
   "execution_count": 21,
   "id": "dae700bc-68e7-44e0-92ca-b90dde54ac60",
   "metadata": {},
   "outputs": [],
   "source": [
    "import tensorflow as tf\n",
    "from tensorflow.keras.models import Sequential\n",
    "from tensorflow.keras.layers import LSTM, Dense, Dropout"
   ]
  },
  {
   "cell_type": "code",
   "execution_count": 22,
   "id": "f12e2cd4-e59e-47e8-a5cf-c5090c0af782",
   "metadata": {
    "scrolled": true
   },
   "outputs": [
    {
     "name": "stderr",
     "output_type": "stream",
     "text": [
      "/Users/anodic_passion/PycharmProjects/108decillion/.venv/lib/python3.11/site-packages/keras/src/layers/rnn/rnn.py:204: UserWarning: Do not pass an `input_shape`/`input_dim` argument to a layer. When using Sequential models, prefer using an `Input(shape)` object as the first layer in the model instead.\n",
      "  super().__init__(**kwargs)\n"
     ]
    }
   ],
   "source": [
    "# Define model parameters\n",
    "input_shape = (X_train.shape[1], X_train.shape[2])\n",
    "output_steps = y_train.shape[1] * y_train.shape[2]  # Predicting multiple steps\n",
    "\n",
    "# Build the model\n",
    "model = Sequential()\n",
    "model.add(LSTM(100, activation='relu', input_shape=input_shape, return_sequences=True))\n",
    "model.add(Dropout(0.2))\n",
    "model.add(LSTM(100, activation='relu'))\n",
    "model.add(Dropout(0.2))\n",
    "model.add(Dense(output_steps))\n",
    "\n",
    "model.compile(optimizer='adam', loss='mse')\n",
    "\n",
    "# Reshape y_train for multi-step prediction\n",
    "y_train_reshaped = y_train.reshape((y_train.shape[0], output_steps))"
   ]
  },
  {
   "cell_type": "code",
   "execution_count": 23,
   "id": "3221f165-2ea9-4d65-9d5f-6587f01c089d",
   "metadata": {
    "scrolled": true
   },
   "outputs": [
    {
     "name": "stdout",
     "output_type": "stream",
     "text": [
      "Epoch 1/100\n",
      "\u001b[1m21/21\u001b[0m \u001b[32m━━━━━━━━━━━━━━━━━━━━\u001b[0m\u001b[37m\u001b[0m \u001b[1m1s\u001b[0m 9ms/step - loss: 0.3402 - val_loss: 0.0488\n",
      "Epoch 2/100\n",
      "\u001b[1m21/21\u001b[0m \u001b[32m━━━━━━━━━━━━━━━━━━━━\u001b[0m\u001b[37m\u001b[0m \u001b[1m0s\u001b[0m 4ms/step - loss: 0.0456 - val_loss: 0.0098\n",
      "Epoch 3/100\n",
      "\u001b[1m21/21\u001b[0m \u001b[32m━━━━━━━━━━━━━━━━━━━━\u001b[0m\u001b[37m\u001b[0m \u001b[1m0s\u001b[0m 4ms/step - loss: 0.0229 - val_loss: 0.0033\n",
      "Epoch 4/100\n",
      "\u001b[1m21/21\u001b[0m \u001b[32m━━━━━━━━━━━━━━━━━━━━\u001b[0m\u001b[37m\u001b[0m \u001b[1m0s\u001b[0m 4ms/step - loss: 0.0183 - val_loss: 0.0038\n",
      "Epoch 5/100\n",
      "\u001b[1m21/21\u001b[0m \u001b[32m━━━━━━━━━━━━━━━━━━━━\u001b[0m\u001b[37m\u001b[0m \u001b[1m0s\u001b[0m 4ms/step - loss: 0.0156 - val_loss: 0.0021\n",
      "Epoch 6/100\n",
      "\u001b[1m21/21\u001b[0m \u001b[32m━━━━━━━━━━━━━━━━━━━━\u001b[0m\u001b[37m\u001b[0m \u001b[1m0s\u001b[0m 5ms/step - loss: 0.0149 - val_loss: 0.0023\n",
      "Epoch 7/100\n",
      "\u001b[1m21/21\u001b[0m \u001b[32m━━━━━━━━━━━━━━━━━━━━\u001b[0m\u001b[37m\u001b[0m \u001b[1m0s\u001b[0m 4ms/step - loss: 0.0132 - val_loss: 0.0028\n",
      "Epoch 8/100\n",
      "\u001b[1m21/21\u001b[0m \u001b[32m━━━━━━━━━━━━━━━━━━━━\u001b[0m\u001b[37m\u001b[0m \u001b[1m0s\u001b[0m 4ms/step - loss: 0.0129 - val_loss: 0.0014\n",
      "Epoch 9/100\n",
      "\u001b[1m21/21\u001b[0m \u001b[32m━━━━━━━━━━━━━━━━━━━━\u001b[0m\u001b[37m\u001b[0m \u001b[1m0s\u001b[0m 5ms/step - loss: 0.0122 - val_loss: 0.0014\n",
      "Epoch 10/100\n",
      "\u001b[1m21/21\u001b[0m \u001b[32m━━━━━━━━━━━━━━━━━━━━\u001b[0m\u001b[37m\u001b[0m \u001b[1m0s\u001b[0m 5ms/step - loss: 0.0102 - val_loss: 0.0013\n",
      "Epoch 11/100\n",
      "\u001b[1m21/21\u001b[0m \u001b[32m━━━━━━━━━━━━━━━━━━━━\u001b[0m\u001b[37m\u001b[0m \u001b[1m0s\u001b[0m 5ms/step - loss: 0.0100 - val_loss: 0.0012\n",
      "Epoch 12/100\n",
      "\u001b[1m21/21\u001b[0m \u001b[32m━━━━━━━━━━━━━━━━━━━━\u001b[0m\u001b[37m\u001b[0m \u001b[1m0s\u001b[0m 5ms/step - loss: 0.0091 - val_loss: 0.0011\n",
      "Epoch 13/100\n",
      "\u001b[1m21/21\u001b[0m \u001b[32m━━━━━━━━━━━━━━━━━━━━\u001b[0m\u001b[37m\u001b[0m \u001b[1m0s\u001b[0m 5ms/step - loss: 0.0084 - val_loss: 0.0025\n",
      "Epoch 14/100\n",
      "\u001b[1m21/21\u001b[0m \u001b[32m━━━━━━━━━━━━━━━━━━━━\u001b[0m\u001b[37m\u001b[0m \u001b[1m0s\u001b[0m 5ms/step - loss: 0.0086 - val_loss: 0.0011\n",
      "Epoch 15/100\n",
      "\u001b[1m21/21\u001b[0m \u001b[32m━━━━━━━━━━━━━━━━━━━━\u001b[0m\u001b[37m\u001b[0m \u001b[1m0s\u001b[0m 5ms/step - loss: 0.0078 - val_loss: 0.0044\n",
      "Epoch 16/100\n",
      "\u001b[1m21/21\u001b[0m \u001b[32m━━━━━━━━━━━━━━━━━━━━\u001b[0m\u001b[37m\u001b[0m \u001b[1m0s\u001b[0m 5ms/step - loss: 0.0082 - val_loss: 0.0035\n",
      "Epoch 17/100\n",
      "\u001b[1m21/21\u001b[0m \u001b[32m━━━━━━━━━━━━━━━━━━━━\u001b[0m\u001b[37m\u001b[0m \u001b[1m0s\u001b[0m 5ms/step - loss: 0.0075 - val_loss: 0.0016\n",
      "Epoch 18/100\n",
      "\u001b[1m21/21\u001b[0m \u001b[32m━━━━━━━━━━━━━━━━━━━━\u001b[0m\u001b[37m\u001b[0m \u001b[1m0s\u001b[0m 5ms/step - loss: 0.0072 - val_loss: 0.0020\n",
      "Epoch 19/100\n",
      "\u001b[1m21/21\u001b[0m \u001b[32m━━━━━━━━━━━━━━━━━━━━\u001b[0m\u001b[37m\u001b[0m \u001b[1m0s\u001b[0m 5ms/step - loss: 0.0072 - val_loss: 0.0012\n",
      "Epoch 20/100\n",
      "\u001b[1m21/21\u001b[0m \u001b[32m━━━━━━━━━━━━━━━━━━━━\u001b[0m\u001b[37m\u001b[0m \u001b[1m0s\u001b[0m 4ms/step - loss: 0.0067 - val_loss: 0.0011\n",
      "Epoch 21/100\n",
      "\u001b[1m21/21\u001b[0m \u001b[32m━━━━━━━━━━━━━━━━━━━━\u001b[0m\u001b[37m\u001b[0m \u001b[1m0s\u001b[0m 4ms/step - loss: 0.0064 - val_loss: 9.8202e-04\n",
      "Epoch 22/100\n",
      "\u001b[1m21/21\u001b[0m \u001b[32m━━━━━━━━━━━━━━━━━━━━\u001b[0m\u001b[37m\u001b[0m \u001b[1m0s\u001b[0m 4ms/step - loss: 0.0059 - val_loss: 0.0018\n",
      "Epoch 23/100\n",
      "\u001b[1m21/21\u001b[0m \u001b[32m━━━━━━━━━━━━━━━━━━━━\u001b[0m\u001b[37m\u001b[0m \u001b[1m0s\u001b[0m 4ms/step - loss: 0.0065 - val_loss: 0.0067\n",
      "Epoch 24/100\n",
      "\u001b[1m21/21\u001b[0m \u001b[32m━━━━━━━━━━━━━━━━━━━━\u001b[0m\u001b[37m\u001b[0m \u001b[1m0s\u001b[0m 5ms/step - loss: 0.0073 - val_loss: 0.0017\n",
      "Epoch 25/100\n",
      "\u001b[1m21/21\u001b[0m \u001b[32m━━━━━━━━━━━━━━━━━━━━\u001b[0m\u001b[37m\u001b[0m \u001b[1m0s\u001b[0m 5ms/step - loss: 0.0057 - val_loss: 0.0026\n",
      "Epoch 26/100\n",
      "\u001b[1m21/21\u001b[0m \u001b[32m━━━━━━━━━━━━━━━━━━━━\u001b[0m\u001b[37m\u001b[0m \u001b[1m0s\u001b[0m 5ms/step - loss: 0.0063 - val_loss: 0.0011\n",
      "Epoch 27/100\n",
      "\u001b[1m21/21\u001b[0m \u001b[32m━━━━━━━━━━━━━━━━━━━━\u001b[0m\u001b[37m\u001b[0m \u001b[1m0s\u001b[0m 5ms/step - loss: 0.0053 - val_loss: 0.0011\n",
      "Epoch 28/100\n",
      "\u001b[1m21/21\u001b[0m \u001b[32m━━━━━━━━━━━━━━━━━━━━\u001b[0m\u001b[37m\u001b[0m \u001b[1m0s\u001b[0m 5ms/step - loss: 0.0059 - val_loss: 0.0010\n",
      "Epoch 29/100\n",
      "\u001b[1m21/21\u001b[0m \u001b[32m━━━━━━━━━━━━━━━━━━━━\u001b[0m\u001b[37m\u001b[0m \u001b[1m0s\u001b[0m 5ms/step - loss: 0.0053 - val_loss: 0.0011\n",
      "Epoch 30/100\n",
      "\u001b[1m21/21\u001b[0m \u001b[32m━━━━━━━━━━━━━━━━━━━━\u001b[0m\u001b[37m\u001b[0m \u001b[1m0s\u001b[0m 5ms/step - loss: 0.0052 - val_loss: 9.1814e-04\n",
      "Epoch 31/100\n",
      "\u001b[1m21/21\u001b[0m \u001b[32m━━━━━━━━━━━━━━━━━━━━\u001b[0m\u001b[37m\u001b[0m \u001b[1m0s\u001b[0m 5ms/step - loss: 0.0059 - val_loss: 9.2818e-04\n",
      "Epoch 32/100\n",
      "\u001b[1m21/21\u001b[0m \u001b[32m━━━━━━━━━━━━━━━━━━━━\u001b[0m\u001b[37m\u001b[0m \u001b[1m0s\u001b[0m 5ms/step - loss: 0.0050 - val_loss: 0.0014\n",
      "Epoch 33/100\n",
      "\u001b[1m21/21\u001b[0m \u001b[32m━━━━━━━━━━━━━━━━━━━━\u001b[0m\u001b[37m\u001b[0m \u001b[1m0s\u001b[0m 5ms/step - loss: 0.0048 - val_loss: 0.0017\n",
      "Epoch 34/100\n",
      "\u001b[1m21/21\u001b[0m \u001b[32m━━━━━━━━━━━━━━━━━━━━\u001b[0m\u001b[37m\u001b[0m \u001b[1m0s\u001b[0m 5ms/step - loss: 0.0047 - val_loss: 0.0013\n",
      "Epoch 35/100\n",
      "\u001b[1m21/21\u001b[0m \u001b[32m━━━━━━━━━━━━━━━━━━━━\u001b[0m\u001b[37m\u001b[0m \u001b[1m0s\u001b[0m 5ms/step - loss: 0.0047 - val_loss: 0.0014\n",
      "Epoch 36/100\n",
      "\u001b[1m21/21\u001b[0m \u001b[32m━━━━━━━━━━━━━━━━━━━━\u001b[0m\u001b[37m\u001b[0m \u001b[1m0s\u001b[0m 5ms/step - loss: 0.0047 - val_loss: 0.0018\n",
      "Epoch 37/100\n",
      "\u001b[1m21/21\u001b[0m \u001b[32m━━━━━━━━━━━━━━━━━━━━\u001b[0m\u001b[37m\u001b[0m \u001b[1m0s\u001b[0m 5ms/step - loss: 0.0048 - val_loss: 0.0023\n",
      "Epoch 38/100\n",
      "\u001b[1m21/21\u001b[0m \u001b[32m━━━━━━━━━━━━━━━━━━━━\u001b[0m\u001b[37m\u001b[0m \u001b[1m0s\u001b[0m 5ms/step - loss: 0.0044 - val_loss: 8.9549e-04\n",
      "Epoch 39/100\n",
      "\u001b[1m21/21\u001b[0m \u001b[32m━━━━━━━━━━━━━━━━━━━━\u001b[0m\u001b[37m\u001b[0m \u001b[1m0s\u001b[0m 5ms/step - loss: 0.0048 - val_loss: 0.0017\n",
      "Epoch 40/100\n",
      "\u001b[1m21/21\u001b[0m \u001b[32m━━━━━━━━━━━━━━━━━━━━\u001b[0m\u001b[37m\u001b[0m \u001b[1m0s\u001b[0m 5ms/step - loss: 0.0048 - val_loss: 9.1489e-04\n",
      "Epoch 41/100\n",
      "\u001b[1m21/21\u001b[0m \u001b[32m━━━━━━━━━━━━━━━━━━━━\u001b[0m\u001b[37m\u001b[0m \u001b[1m0s\u001b[0m 5ms/step - loss: 0.0050 - val_loss: 9.2334e-04\n",
      "Epoch 42/100\n",
      "\u001b[1m21/21\u001b[0m \u001b[32m━━━━━━━━━━━━━━━━━━━━\u001b[0m\u001b[37m\u001b[0m \u001b[1m0s\u001b[0m 5ms/step - loss: 0.0040 - val_loss: 0.0017\n",
      "Epoch 43/100\n",
      "\u001b[1m21/21\u001b[0m \u001b[32m━━━━━━━━━━━━━━━━━━━━\u001b[0m\u001b[37m\u001b[0m \u001b[1m0s\u001b[0m 5ms/step - loss: 0.0050 - val_loss: 8.8196e-04\n",
      "Epoch 44/100\n",
      "\u001b[1m21/21\u001b[0m \u001b[32m━━━━━━━━━━━━━━━━━━━━\u001b[0m\u001b[37m\u001b[0m \u001b[1m0s\u001b[0m 5ms/step - loss: 0.0044 - val_loss: 0.0010\n",
      "Epoch 45/100\n",
      "\u001b[1m21/21\u001b[0m \u001b[32m━━━━━━━━━━━━━━━━━━━━\u001b[0m\u001b[37m\u001b[0m \u001b[1m0s\u001b[0m 5ms/step - loss: 0.0043 - val_loss: 8.4328e-04\n",
      "Epoch 46/100\n",
      "\u001b[1m21/21\u001b[0m \u001b[32m━━━━━━━━━━━━━━━━━━━━\u001b[0m\u001b[37m\u001b[0m \u001b[1m0s\u001b[0m 5ms/step - loss: 0.0045 - val_loss: 9.6396e-04\n",
      "Epoch 47/100\n",
      "\u001b[1m21/21\u001b[0m \u001b[32m━━━━━━━━━━━━━━━━━━━━\u001b[0m\u001b[37m\u001b[0m \u001b[1m0s\u001b[0m 5ms/step - loss: 0.0042 - val_loss: 8.5747e-04\n",
      "Epoch 48/100\n",
      "\u001b[1m21/21\u001b[0m \u001b[32m━━━━━━━━━━━━━━━━━━━━\u001b[0m\u001b[37m\u001b[0m \u001b[1m0s\u001b[0m 5ms/step - loss: 0.0043 - val_loss: 0.0013\n",
      "Epoch 49/100\n",
      "\u001b[1m21/21\u001b[0m \u001b[32m━━━━━━━━━━━━━━━━━━━━\u001b[0m\u001b[37m\u001b[0m \u001b[1m0s\u001b[0m 5ms/step - loss: 0.0037 - val_loss: 0.0021\n",
      "Epoch 50/100\n",
      "\u001b[1m21/21\u001b[0m \u001b[32m━━━━━━━━━━━━━━━━━━━━\u001b[0m\u001b[37m\u001b[0m \u001b[1m0s\u001b[0m 5ms/step - loss: 0.0036 - val_loss: 0.0014\n",
      "Epoch 51/100\n",
      "\u001b[1m21/21\u001b[0m \u001b[32m━━━━━━━━━━━━━━━━━━━━\u001b[0m\u001b[37m\u001b[0m \u001b[1m0s\u001b[0m 5ms/step - loss: 0.0048 - val_loss: 0.0010\n",
      "Epoch 52/100\n",
      "\u001b[1m21/21\u001b[0m \u001b[32m━━━━━━━━━━━━━━━━━━━━\u001b[0m\u001b[37m\u001b[0m \u001b[1m0s\u001b[0m 5ms/step - loss: 0.0038 - val_loss: 0.0014\n",
      "Epoch 53/100\n",
      "\u001b[1m21/21\u001b[0m \u001b[32m━━━━━━━━━━━━━━━━━━━━\u001b[0m\u001b[37m\u001b[0m \u001b[1m0s\u001b[0m 5ms/step - loss: 0.0041 - val_loss: 8.8260e-04\n",
      "Epoch 54/100\n",
      "\u001b[1m21/21\u001b[0m \u001b[32m━━━━━━━━━━━━━━━━━━━━\u001b[0m\u001b[37m\u001b[0m \u001b[1m0s\u001b[0m 5ms/step - loss: 0.0037 - val_loss: 0.0010\n",
      "Epoch 55/100\n",
      "\u001b[1m21/21\u001b[0m \u001b[32m━━━━━━━━━━━━━━━━━━━━\u001b[0m\u001b[37m\u001b[0m \u001b[1m0s\u001b[0m 5ms/step - loss: 0.0041 - val_loss: 0.0015\n",
      "Epoch 56/100\n",
      "\u001b[1m21/21\u001b[0m \u001b[32m━━━━━━━━━━━━━━━━━━━━\u001b[0m\u001b[37m\u001b[0m \u001b[1m0s\u001b[0m 5ms/step - loss: 0.0040 - val_loss: 0.0010\n",
      "Epoch 57/100\n",
      "\u001b[1m21/21\u001b[0m \u001b[32m━━━━━━━━━━━━━━━━━━━━\u001b[0m\u001b[37m\u001b[0m \u001b[1m0s\u001b[0m 5ms/step - loss: 0.0037 - val_loss: 0.0012\n",
      "Epoch 58/100\n",
      "\u001b[1m21/21\u001b[0m \u001b[32m━━━━━━━━━━━━━━━━━━━━\u001b[0m\u001b[37m\u001b[0m \u001b[1m0s\u001b[0m 5ms/step - loss: 0.0044 - val_loss: 9.7391e-04\n",
      "Epoch 59/100\n",
      "\u001b[1m21/21\u001b[0m \u001b[32m━━━━━━━━━━━━━━━━━━━━\u001b[0m\u001b[37m\u001b[0m \u001b[1m0s\u001b[0m 5ms/step - loss: 0.0039 - val_loss: 8.5771e-04\n",
      "Epoch 60/100\n",
      "\u001b[1m21/21\u001b[0m \u001b[32m━━━━━━━━━━━━━━━━━━━━\u001b[0m\u001b[37m\u001b[0m \u001b[1m0s\u001b[0m 5ms/step - loss: 0.0037 - val_loss: 9.8347e-04\n",
      "Epoch 61/100\n",
      "\u001b[1m21/21\u001b[0m \u001b[32m━━━━━━━━━━━━━━━━━━━━\u001b[0m\u001b[37m\u001b[0m \u001b[1m0s\u001b[0m 5ms/step - loss: 0.0035 - val_loss: 0.0014\n",
      "Epoch 62/100\n",
      "\u001b[1m21/21\u001b[0m \u001b[32m━━━━━━━━━━━━━━━━━━━━\u001b[0m\u001b[37m\u001b[0m \u001b[1m0s\u001b[0m 5ms/step - loss: 0.0036 - val_loss: 8.9960e-04\n",
      "Epoch 63/100\n",
      "\u001b[1m21/21\u001b[0m \u001b[32m━━━━━━━━━━━━━━━━━━━━\u001b[0m\u001b[37m\u001b[0m \u001b[1m0s\u001b[0m 5ms/step - loss: 0.0036 - val_loss: 0.0021\n",
      "Epoch 64/100\n",
      "\u001b[1m21/21\u001b[0m \u001b[32m━━━━━━━━━━━━━━━━━━━━\u001b[0m\u001b[37m\u001b[0m \u001b[1m0s\u001b[0m 5ms/step - loss: 0.0041 - val_loss: 0.0015\n",
      "Epoch 65/100\n",
      "\u001b[1m21/21\u001b[0m \u001b[32m━━━━━━━━━━━━━━━━━━━━\u001b[0m\u001b[37m\u001b[0m \u001b[1m0s\u001b[0m 5ms/step - loss: 0.0035 - val_loss: 8.3463e-04\n",
      "Epoch 66/100\n",
      "\u001b[1m21/21\u001b[0m \u001b[32m━━━━━━━━━━━━━━━━━━━━\u001b[0m\u001b[37m\u001b[0m \u001b[1m0s\u001b[0m 5ms/step - loss: 0.0033 - val_loss: 9.9389e-04\n",
      "Epoch 67/100\n",
      "\u001b[1m21/21\u001b[0m \u001b[32m━━━━━━━━━━━━━━━━━━━━\u001b[0m\u001b[37m\u001b[0m \u001b[1m0s\u001b[0m 5ms/step - loss: 0.0036 - val_loss: 0.0013\n",
      "Epoch 68/100\n",
      "\u001b[1m21/21\u001b[0m \u001b[32m━━━━━━━━━━━━━━━━━━━━\u001b[0m\u001b[37m\u001b[0m \u001b[1m0s\u001b[0m 5ms/step - loss: 0.0032 - val_loss: 0.0011\n",
      "Epoch 69/100\n",
      "\u001b[1m21/21\u001b[0m \u001b[32m━━━━━━━━━━━━━━━━━━━━\u001b[0m\u001b[37m\u001b[0m \u001b[1m0s\u001b[0m 5ms/step - loss: 0.0035 - val_loss: 8.1554e-04\n",
      "Epoch 70/100\n",
      "\u001b[1m21/21\u001b[0m \u001b[32m━━━━━━━━━━━━━━━━━━━━\u001b[0m\u001b[37m\u001b[0m \u001b[1m0s\u001b[0m 5ms/step - loss: 0.0033 - val_loss: 9.5816e-04\n",
      "Epoch 71/100\n",
      "\u001b[1m21/21\u001b[0m \u001b[32m━━━━━━━━━━━━━━━━━━━━\u001b[0m\u001b[37m\u001b[0m \u001b[1m0s\u001b[0m 5ms/step - loss: 0.0035 - val_loss: 0.0015\n",
      "Epoch 72/100\n",
      "\u001b[1m21/21\u001b[0m \u001b[32m━━━━━━━━━━━━━━━━━━━━\u001b[0m\u001b[37m\u001b[0m \u001b[1m0s\u001b[0m 5ms/step - loss: 0.0035 - val_loss: 0.0016\n",
      "Epoch 73/100\n",
      "\u001b[1m21/21\u001b[0m \u001b[32m━━━━━━━━━━━━━━━━━━━━\u001b[0m\u001b[37m\u001b[0m \u001b[1m0s\u001b[0m 5ms/step - loss: 0.0037 - val_loss: 8.6783e-04\n",
      "Epoch 74/100\n",
      "\u001b[1m21/21\u001b[0m \u001b[32m━━━━━━━━━━━━━━━━━━━━\u001b[0m\u001b[37m\u001b[0m \u001b[1m0s\u001b[0m 5ms/step - loss: 0.0037 - val_loss: 0.0019\n",
      "Epoch 75/100\n",
      "\u001b[1m21/21\u001b[0m \u001b[32m━━━━━━━━━━━━━━━━━━━━\u001b[0m\u001b[37m\u001b[0m \u001b[1m0s\u001b[0m 5ms/step - loss: 0.0038 - val_loss: 8.3299e-04\n",
      "Epoch 76/100\n",
      "\u001b[1m21/21\u001b[0m \u001b[32m━━━━━━━━━━━━━━━━━━━━\u001b[0m\u001b[37m\u001b[0m \u001b[1m0s\u001b[0m 5ms/step - loss: 0.0032 - val_loss: 7.9528e-04\n",
      "Epoch 77/100\n",
      "\u001b[1m21/21\u001b[0m \u001b[32m━━━━━━━━━━━━━━━━━━━━\u001b[0m\u001b[37m\u001b[0m \u001b[1m0s\u001b[0m 5ms/step - loss: 0.0032 - val_loss: 8.4517e-04\n",
      "Epoch 78/100\n",
      "\u001b[1m21/21\u001b[0m \u001b[32m━━━━━━━━━━━━━━━━━━━━\u001b[0m\u001b[37m\u001b[0m \u001b[1m0s\u001b[0m 5ms/step - loss: 0.0033 - val_loss: 7.8111e-04\n",
      "Epoch 79/100\n",
      "\u001b[1m21/21\u001b[0m \u001b[32m━━━━━━━━━━━━━━━━━━━━\u001b[0m\u001b[37m\u001b[0m \u001b[1m0s\u001b[0m 5ms/step - loss: 0.0032 - val_loss: 7.9227e-04\n",
      "Epoch 80/100\n",
      "\u001b[1m21/21\u001b[0m \u001b[32m━━━━━━━━━━━━━━━━━━━━\u001b[0m\u001b[37m\u001b[0m \u001b[1m0s\u001b[0m 5ms/step - loss: 0.0032 - val_loss: 8.6803e-04\n",
      "Epoch 81/100\n",
      "\u001b[1m21/21\u001b[0m \u001b[32m━━━━━━━━━━━━━━━━━━━━\u001b[0m\u001b[37m\u001b[0m \u001b[1m0s\u001b[0m 5ms/step - loss: 0.0032 - val_loss: 0.0012\n",
      "Epoch 82/100\n",
      "\u001b[1m21/21\u001b[0m \u001b[32m━━━━━━━━━━━━━━━━━━━━\u001b[0m\u001b[37m\u001b[0m \u001b[1m0s\u001b[0m 5ms/step - loss: 0.0031 - val_loss: 0.0010\n",
      "Epoch 83/100\n",
      "\u001b[1m21/21\u001b[0m \u001b[32m━━━━━━━━━━━━━━━━━━━━\u001b[0m\u001b[37m\u001b[0m \u001b[1m0s\u001b[0m 5ms/step - loss: 0.0033 - val_loss: 8.8965e-04\n",
      "Epoch 84/100\n",
      "\u001b[1m21/21\u001b[0m \u001b[32m━━━━━━━━━━━━━━━━━━━━\u001b[0m\u001b[37m\u001b[0m \u001b[1m0s\u001b[0m 5ms/step - loss: 0.0030 - val_loss: 7.9821e-04\n",
      "Epoch 85/100\n",
      "\u001b[1m21/21\u001b[0m \u001b[32m━━━━━━━━━━━━━━━━━━━━\u001b[0m\u001b[37m\u001b[0m \u001b[1m0s\u001b[0m 5ms/step - loss: 0.0029 - val_loss: 8.8004e-04\n",
      "Epoch 86/100\n",
      "\u001b[1m21/21\u001b[0m \u001b[32m━━━━━━━━━━━━━━━━━━━━\u001b[0m\u001b[37m\u001b[0m \u001b[1m0s\u001b[0m 5ms/step - loss: 0.0034 - val_loss: 8.5684e-04\n",
      "Epoch 87/100\n",
      "\u001b[1m21/21\u001b[0m \u001b[32m━━━━━━━━━━━━━━━━━━━━\u001b[0m\u001b[37m\u001b[0m \u001b[1m0s\u001b[0m 5ms/step - loss: 0.0032 - val_loss: 0.0018\n",
      "Epoch 88/100\n",
      "\u001b[1m21/21\u001b[0m \u001b[32m━━━━━━━━━━━━━━━━━━━━\u001b[0m\u001b[37m\u001b[0m \u001b[1m0s\u001b[0m 5ms/step - loss: 0.0034 - val_loss: 0.0014\n",
      "Epoch 89/100\n",
      "\u001b[1m21/21\u001b[0m \u001b[32m━━━━━━━━━━━━━━━━━━━━\u001b[0m\u001b[37m\u001b[0m \u001b[1m0s\u001b[0m 5ms/step - loss: 0.0028 - val_loss: 0.0013\n",
      "Epoch 90/100\n",
      "\u001b[1m21/21\u001b[0m \u001b[32m━━━━━━━━━━━━━━━━━━━━\u001b[0m\u001b[37m\u001b[0m \u001b[1m0s\u001b[0m 5ms/step - loss: 0.0035 - val_loss: 7.7628e-04\n",
      "Epoch 91/100\n",
      "\u001b[1m21/21\u001b[0m \u001b[32m━━━━━━━━━━━━━━━━━━━━\u001b[0m\u001b[37m\u001b[0m \u001b[1m0s\u001b[0m 5ms/step - loss: 0.0031 - val_loss: 7.8718e-04\n",
      "Epoch 92/100\n",
      "\u001b[1m21/21\u001b[0m \u001b[32m━━━━━━━━━━━━━━━━━━━━\u001b[0m\u001b[37m\u001b[0m \u001b[1m0s\u001b[0m 5ms/step - loss: 0.0028 - val_loss: 0.0011\n",
      "Epoch 93/100\n",
      "\u001b[1m21/21\u001b[0m \u001b[32m━━━━━━━━━━━━━━━━━━━━\u001b[0m\u001b[37m\u001b[0m \u001b[1m0s\u001b[0m 5ms/step - loss: 0.0027 - val_loss: 7.8849e-04\n",
      "Epoch 94/100\n",
      "\u001b[1m21/21\u001b[0m \u001b[32m━━━━━━━━━━━━━━━━━━━━\u001b[0m\u001b[37m\u001b[0m \u001b[1m0s\u001b[0m 5ms/step - loss: 0.0030 - val_loss: 0.0011\n",
      "Epoch 95/100\n",
      "\u001b[1m21/21\u001b[0m \u001b[32m━━━━━━━━━━━━━━━━━━━━\u001b[0m\u001b[37m\u001b[0m \u001b[1m0s\u001b[0m 5ms/step - loss: 0.0028 - val_loss: 7.9998e-04\n",
      "Epoch 96/100\n",
      "\u001b[1m21/21\u001b[0m \u001b[32m━━━━━━━━━━━━━━━━━━━━\u001b[0m\u001b[37m\u001b[0m \u001b[1m0s\u001b[0m 5ms/step - loss: 0.0032 - val_loss: 8.7680e-04\n",
      "Epoch 97/100\n",
      "\u001b[1m21/21\u001b[0m \u001b[32m━━━━━━━━━━━━━━━━━━━━\u001b[0m\u001b[37m\u001b[0m \u001b[1m0s\u001b[0m 5ms/step - loss: 0.0028 - val_loss: 0.0013\n",
      "Epoch 98/100\n",
      "\u001b[1m21/21\u001b[0m \u001b[32m━━━━━━━━━━━━━━━━━━━━\u001b[0m\u001b[37m\u001b[0m \u001b[1m0s\u001b[0m 5ms/step - loss: 0.0029 - val_loss: 8.2729e-04\n",
      "Epoch 99/100\n",
      "\u001b[1m21/21\u001b[0m \u001b[32m━━━━━━━━━━━━━━━━━━━━\u001b[0m\u001b[37m\u001b[0m \u001b[1m0s\u001b[0m 5ms/step - loss: 0.0028 - val_loss: 9.5938e-04\n",
      "Epoch 100/100\n",
      "\u001b[1m21/21\u001b[0m \u001b[32m━━━━━━━━━━━━━━━━━━━━\u001b[0m\u001b[37m\u001b[0m \u001b[1m0s\u001b[0m 5ms/step - loss: 0.0032 - val_loss: 7.9792e-04\n"
     ]
    }
   ],
   "source": [
    "# Train the model\n",
    "history = model.fit(X_train, y_train_reshaped, epochs=100, batch_size=32, validation_split=0.2)"
   ]
  },
  {
   "cell_type": "code",
   "execution_count": 24,
   "id": "376aca15-e501-4728-9309-50d4698a1e5f",
   "metadata": {},
   "outputs": [
    {
     "name": "stdout",
     "output_type": "stream",
     "text": [
      "\u001b[1m7/7\u001b[0m \u001b[32m━━━━━━━━━━━━━━━━━━━━\u001b[0m\u001b[37m\u001b[0m \u001b[1m0s\u001b[0m 16ms/step\n",
      "Test MSE: 0.000419688101139105\n"
     ]
    }
   ],
   "source": [
    "from sklearn.metrics import mean_squared_error\n",
    "\n",
    "# Predict on test data\n",
    "y_pred = model.predict(X_test)\n",
    "y_pred = y_pred.reshape((y_pred.shape[0], y_test.shape[1], y_test.shape[2]))\n",
    "y_test_rescaled = y_test  # If you scaled the data, remember to inverse transform if necessary\n",
    "\n",
    "mse = mean_squared_error(y_test_rescaled.flatten(), y_pred.flatten())\n",
    "print(f'Test MSE: {mse}')"
   ]
  },
  {
   "cell_type": "code",
   "execution_count": 25,
   "id": "473a208c-4569-457a-99b1-f507534f84a2",
   "metadata": {},
   "outputs": [
    {
     "data": {
      "image/png": "[encoded data removed]",
      "text/plain": [
       "<Figure size 640x480 with 1 Axes>"
      ]
     },
     "metadata": {},
     "output_type": "display_data"
    }
   ],
   "source": [
    "import matplotlib.pyplot as plt\n",
    "\n",
    "# Example for the first feature (e.g., Close price)\n",
    "plt.plot(y_test[0,:,3], label='Actual Close')\n",
    "plt.plot(y_pred[0,:,3], label='Predicted Close')\n",
    "plt.legend()\n",
    "plt.show()"
   ]
  },
  {
   "cell_type": "code",
   "execution_count": 26,
   "id": "f156e85c-8fa8-481d-a519-628ed1039118",
   "metadata": {
    "scrolled": true
   },
   "outputs": [
    {
     "data": {
      "text/plain": [
       "(array([[8.06013579e-01, 7.99043062e-01, 8.23818898e-01, 8.07321773e-01,\n",
       "         8.95693780e-01, 8.86274510e-01, 8.56115108e-01, 8.24752475e-01,\n",
       "         8.63683663e-01, 4.47521782e-03, 6.37426546e-02],\n",
       "        [8.10863240e-01, 8.16267943e-01, 8.32677165e-01, 8.24662813e-01,\n",
       "         8.95693780e-01, 8.85294118e-01, 8.55087359e-01, 8.27722772e-01,\n",
       "         8.63683663e-01, 4.47779008e-03, 5.05271433e-03],\n",
       "        [8.28322017e-01, 8.16267943e-01, 8.33661417e-01, 8.08285164e-01,\n",
       "         8.96650718e-01, 8.83333333e-01, 8.57142857e-01, 8.28712871e-01,\n",
       "         8.61602497e-01, 1.64676080e-03, 4.84233716e-04],\n",
       "        [8.11833172e-01, 8.07655502e-01, 8.33661417e-01, 8.14065511e-01,\n",
       "         8.95693780e-01, 8.82352941e-01, 8.58170606e-01, 8.30693069e-01,\n",
       "         8.62643080e-01, 6.23207135e-03, 1.74446214e-03],\n",
       "        [8.17652764e-01, 8.07655502e-01, 8.33661417e-01, 8.08285164e-01,\n",
       "         8.95693780e-01, 8.82352941e-01, 8.59198356e-01, 8.31683168e-01,\n",
       "         8.61602497e-01, 6.73520539e-03, 2.83183133e-02]]),\n",
       " array([[8.16682832e-01, 8.08612440e-01, 8.32677165e-01, 8.12138728e-01,\n",
       "         8.95693780e-01, 8.81372549e-01, 8.59198356e-01, 8.32673267e-01,\n",
       "         8.61602497e-01, 9.46591653e-05, 9.84337277e-04],\n",
       "        [8.15712900e-01, 8.14354067e-01, 8.33661417e-01, 8.22736031e-01,\n",
       "         8.95693780e-01, 8.79411765e-01, 8.59198356e-01, 8.32673267e-01,\n",
       "         8.61602497e-01, 4.44949522e-03, 8.41996980e-03],\n",
       "        [8.27352085e-01, 8.15311005e-01, 8.37598425e-01, 8.12138728e-01,\n",
       "         8.94736842e-01, 8.78431373e-01, 8.60226105e-01, 8.33663366e-01,\n",
       "         8.61602497e-01, 3.45505953e-03, 1.48240624e-03]]))"
      ]
     },
     "execution_count": 26,
     "metadata": {},
     "output_type": "execute_result"
    }
   ],
   "source": [
    "X_test[0], y_test[0]"
   ]
  },
  {
   "cell_type": "code",
   "execution_count": 27,
   "id": "e9cd974b-835d-4216-b6d5-c596adf87bb1",
   "metadata": {},
   "outputs": [
    {
     "data": {
      "text/plain": [
       "((812, 33), (812, 3, 11))"
      ]
     },
     "execution_count": 27,
     "metadata": {},
     "output_type": "execute_result"
    }
   ],
   "source": [
    "y_train_reshaped.shape, y_train.shape"
   ]
  },
  {
   "cell_type": "code",
   "execution_count": 28,
   "id": "6981c440-728c-4c46-b74b-29202baab275",
   "metadata": {},
   "outputs": [
    {
     "name": "stdout",
     "output_type": "stream",
     "text": [
      "\u001b[1m1/1\u001b[0m \u001b[32m━━━━━━━━━━━━━━━━━━━━\u001b[0m\u001b[37m\u001b[0m \u001b[1m0s\u001b[0m 8ms/step\n"
     ]
    },
    {
     "data": {
      "text/plain": [
       "(array([[[8.240002  , 8.259107  , 8.417205  , 8.229972  , 8.97039   ,\n",
       "          8.938606  , 8.759337  , 8.459225  , 8.815347  , 0.22991972,\n",
       "          0.09743665],\n",
       "         [8.27779   , 8.240108  , 8.408481  , 8.23759   , 8.977358  ,\n",
       "          8.970333  , 8.739222  , 8.447411  , 8.799418  , 0.27084586,\n",
       "          0.04708704],\n",
       "         [8.280804  , 8.238018  , 8.381867  , 8.212845  , 8.992543  ,\n",
       "          8.964687  , 8.728897  , 8.439985  , 8.769991  , 0.26684153,\n",
       "          0.09194018]]], dtype=float32),\n",
       " array([[8.16682832e-01, 8.08612440e-01, 8.32677165e-01, 8.12138728e-01,\n",
       "         8.95693780e-01, 8.81372549e-01, 8.59198356e-01, 8.32673267e-01,\n",
       "         8.61602497e-01, 9.46591653e-05, 9.84337277e-04],\n",
       "        [8.15712900e-01, 8.14354067e-01, 8.33661417e-01, 8.22736031e-01,\n",
       "         8.95693780e-01, 8.79411765e-01, 8.59198356e-01, 8.32673267e-01,\n",
       "         8.61602497e-01, 4.44949522e-03, 8.41996980e-03],\n",
       "        [8.27352085e-01, 8.15311005e-01, 8.37598425e-01, 8.12138728e-01,\n",
       "         8.94736842e-01, 8.78431373e-01, 8.60226105e-01, 8.33663366e-01,\n",
       "         8.61602497e-01, 3.45505953e-03, 1.48240624e-03]]))"
      ]
     },
     "execution_count": 28,
     "metadata": {},
     "output_type": "execute_result"
    }
   ],
   "source": [
    "y_pred = model.predict(X_test[0:1])\n",
    "y_pred = y_pred.reshape((y_pred.shape[0], y_test.shape[1], y_test.shape[2]))\n",
    "y_pred*10, y_test[0]"
   ]
  },
  {
   "cell_type": "code",
   "execution_count": 29,
   "id": "5c3a75e9-6db9-46fa-8456-532b688341c1",
   "metadata": {},
   "outputs": [
    {
     "name": "stdout",
     "output_type": "stream",
     "text": [
      "\u001b[1m1/1\u001b[0m \u001b[32m━━━━━━━━━━━━━━━━━━━━\u001b[0m\u001b[37m\u001b[0m \u001b[1m0s\u001b[0m 11ms/step\n",
      "[[7.09196396e+01 1.19159607e+02 9.33542938e+01 1.12196236e+02\n",
      "  3.25248451e+01 4.07293358e+01 3.58421402e+01 5.22739258e+01\n",
      "  1.65583916e+01 3.47762440e+07 4.92084781e+05]\n",
      " [1.37701157e+02 1.73869263e+02 1.42298599e+02 1.47892151e+02\n",
      "  6.20837746e+01 2.15797920e+01 3.51113701e+01 8.65149994e+01\n",
      "  3.33446236e+01 3.82576920e+07 6.22961500e+05]\n",
      " [1.80307449e+02 2.17861282e+02 1.73885162e+02 2.12970123e+02\n",
      "  5.01765785e+01 6.50934143e+01 5.81600990e+01 1.09675735e+02\n",
      "  3.85716782e+01 4.83510640e+07 4.76449844e+05]]\n"
     ]
    },
    {
     "name": "stderr",
     "output_type": "stream",
     "text": [
      "/Users/anodic_passion/PycharmProjects/108decillion/.venv/lib/python3.11/site-packages/sklearn/base.py:493: UserWarning: X does not have valid feature names, but MinMaxScaler was fitted with feature names\n",
      "  warnings.warn(\n"
     ]
    },
    {
     "data": {
      "text/plain": [
       "array([[ -5.569385 ,  -0.879464 ,  -3.4336324,  -1.5533494,  -9.09523  ,\n",
       "         -8.543202 ,  -9.5105715,  -7.5322847, -11.644288 ,  17.890402 ,\n",
       "         20.027817 ,   0.9079686,   4.355911 ,   1.3837208,   1.885564 ,\n",
       "         -6.2666245, -10.4206085,  -9.585676 ,  -4.142079 ,  -9.897542 ,\n",
       "         19.68144  ,  25.353441 ,   5.04049  ,   8.565672 ,   4.492635 ,\n",
       "          8.155119 ,  -7.406069 ,  -6.1545672,  -7.2168446,  -1.8489369,\n",
       "         -9.353623 ,  24.873995 ,  19.391602 ]], dtype=float32)"
      ]
     },
     "execution_count": 29,
     "metadata": {},
     "output_type": "execute_result"
    }
   ],
   "source": [
    "import numpy as np\n",
    "\n",
    "# Assume the model is already trained and scaler is fitted\n",
    "# last_5_candles is your input data for the last 5 candles in array format\n",
    "\n",
    "# Example format: last_5_candles = np.array([[Open, High, Low, Close, Jaw Alligator, Teeth Alligator, Lips Alligator, MA5, MA15, Volume, Volume Change Percentage], ...])\n",
    "\n",
    "# Reshape the input data to match the expected input shape for the model (1 sample, 5 timesteps, n_features)\n",
    "last_5_candles = scaled_features[0:5]\n",
    "last_5_candles_scaled = scaler.transform(last_5_candles)  # Scale the data\n",
    "last_5_candles_scaled = np.reshape(last_5_candles_scaled, (1, last_5_candles_scaled.shape[0], last_5_candles_scaled.shape[1]))\n",
    "\n",
    "# Make predictions for the next 3 candles\n",
    "predicted_scaled = model.predict(last_5_candles_scaled)\n",
    "\n",
    "# If you want to inverse the predictions back to the original scale\n",
    "predicted = scaler.inverse_transform(predicted_scaled.reshape(-1, last_5_candles.shape[1]))  # Reshape and inverse transform\n",
    "\n",
    "# Display the predicted results for the next 3 candles\n",
    "print(predicted)\n",
    "predicted_scaled"
   ]
  },
  {
   "cell_type": "code",
   "execution_count": 30,
   "id": "392b7865-bab7-4fdb-9f3b-ecaba49c9299",
   "metadata": {},
   "outputs": [],
   "source": [
    "# scaled_features = scaler.fit_transform(data[['Open', 'High', 'Low', 'Close', 'Jaw ‌Alligator‌',\n",
    "#        'Teeth ‌Alligator', 'Lips ‌Alligator', 'MA5', 'MA15', 'Volume',\n",
    "#        'Volume Change Percentage']])\n",
    "\n"
   ]
  },
  {
   "cell_type": "code",
   "execution_count": 33,
   "id": "4a3e5136-a777-4682-b7f7-e455be40fa57",
   "metadata": {},
   "outputs": [
    {
     "data": {
      "text/plain": [
       "((812, 5, 11), (812, 33), (5, 11))"
      ]
     },
     "execution_count": 33,
     "metadata": {},
     "output_type": "execute_result"
    }
   ],
   "source": [
    "X_train.shape, y_train_reshaped.shape, input_shape,"
   ]
  }
 ],
 "metadata": {
  "kernelspec": {
   "display_name": "Python 3 (ipykernel)",
   "language": "python",
   "name": "python3"
  },
  "language_info": {
   "codemirror_mode": {
    "name": "ipython",
    "version": 3
   },
   "file_extension": ".py",
   "mimetype": "text/x-python",
   "name": "python",
   "nbconvert_exporter": "python",
   "pygments_lexer": "ipython3",
   "version": "3.11.9"
  }
 },
 "nbformat": 4,
 "nbformat_minor": 5
}
