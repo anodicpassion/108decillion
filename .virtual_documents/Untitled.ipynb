import os
import numpy as np
import tensorflow as tf
from tensorflow.keras.models import Sequential
from tensorflow.keras.layers import Dense, LSTM, Dropout
from sklearn.model_selection import train_test_split
from sklearn.preprocessing import MinMaxScaler
from datetime import datetime


final_data = {"Date": [], "Open": [], "High": [], "Low": [], "Close": [], "5MA": [], "15MA": [], "Lip": []}
final_data


def add_data_in_final(data):
    global final_data
    for i in data.split("\n")[1:]:
        try:
            i = i[1:-1]
            row = i.split('''","''')
           r 
            Open = float(row[1])
            High = float(row[2])
            Low = float(row[3])
            Close = float(row[4])
            MA5 = float(row[8])
            MA15 = float(row[9])
            Lip = float(row[7])
            Volume = float(row[10])
            
            final_data["Date"].append(datetime.strptime(str(row[0]).split(" GMT+0530 (India Standard Time)")[0], "%a %b %d %Y %H:%M:%S"))
            final_data["Open"].append(Open - Open)
            final_data["High"].append(High - Open)
            final_data["Low"].append(Low - Open)
            final_data["Close"].append(Close - Open)
            final_data["5MA"].append(MA5 - Open)
            final_data["15MA"].append(MA15 - Open)
            final_data["Lip"].append(Lip - Open)
            final_data["Volume"].append(volume)
        except ValueError:
            print(123456)


for directory in os.listdir('data/nifty/'):
    with open(f"data/nifty50/{directory}", "r") as f:
        add_data_in_final(f.read())



for i in final_data["Date"]:
    print(i)



