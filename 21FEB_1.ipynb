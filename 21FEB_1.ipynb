{
 "cells": [
  {
   "cell_type": "code",
   "execution_count": 1,
   "id": "14d7dcef-108d-4137-a73c-bf54f08711c2",
   "metadata": {},
   "outputs": [],
   "source": [
    "import tensorflow as tf\n",
    "from tensorflow.keras.models import Sequential\n",
    "from tensorflow.keras.layers import LSTM, Dense, Dropout, Reshape, Input, Flatten, BatchNormalization\n",
    "from sklearn.model_selection import train_test_split"
   ]
  },
  {
   "cell_type": "code",
   "execution_count": 2,
   "id": "c738ec7b-5ea6-4d22-9c00-6ba174fc8916",
   "metadata": {},
   "outputs": [
    {
     "data": {
      "text/plain": [
       "'Market: OPEN'"
      ]
     },
     "execution_count": 2,
     "metadata": {},
     "output_type": "execute_result"
    }
   ],
   "source": [
    "import time, datetime\n",
    "from fyers_apiv3 import fyersModel\n",
    "import authenticator\n",
    "client_id = \"ZHQ4IJL7TI-100\"\n",
    "access_token = authenticator.authenticate()\n",
    "\n",
    "fyers = fyersModel.FyersModel(client_id=client_id, is_async=False, token=access_token, log_path=\"\")\n",
    "market_status = fyers.market_status()\n",
    "\n",
    "\"Market: \" + market_status[\"marketStatus\"][1]['status']"
   ]
  },
  {
   "cell_type": "code",
   "execution_count": 3,
   "id": "5f7c180d-f2e6-4cab-ae22-2fd969161744",
   "metadata": {},
   "outputs": [],
   "source": [
    "import matplotlib.pyplot as plt\n",
    "import numpy as np"
   ]
  },
  {
   "cell_type": "code",
   "execution_count": 4,
   "id": "2a958bd3-f16f-4226-a833-c91604e07033",
   "metadata": {},
   "outputs": [],
   "source": [
    "from indicators.syncind import SyncInd\n",
    "from indicators.classic import SMA, Alligator, SmoothMA, RSI, MACD, ATR, WMA, EMA, RMA, VolumeROC, KAMA\n",
    "from indicators.candle import OHLC\n",
    "from indicators import epoch_to_time"
   ]
  },
  {
   "cell_type": "code",
   "execution_count": 5,
   "id": "c6ecc05f-4a05-4b91-999a-14a0eaa9f23c",
   "metadata": {},
   "outputs": [
    {
     "data": {
      "text/plain": [
       "('2025-02-20', '2024-11-13')"
      ]
     },
     "execution_count": 5,
     "metadata": {},
     "output_type": "execute_result"
    }
   ],
   "source": [
    "date_yesterday = (datetime.datetime.now() - datetime.timedelta(days=1)).strftime(\"%Y-%m-%d\")\n",
    "date_100_p = (datetime.datetime.now() - datetime.timedelta(days=100)).strftime(\"%Y-%m-%d\")\n",
    "date_yesterday, date_100_p"
   ]
  },
  {
   "cell_type": "code",
   "execution_count": 13,
   "id": "c1c22014-4375-43fd-8329-c2f5980879cf",
   "metadata": {},
   "outputs": [
    {
     "data": {
      "text/plain": [
       "(26250, 5250)"
      ]
     },
     "execution_count": 13,
     "metadata": {},
     "output_type": "execute_result"
    }
   ],
   "source": [
    "symbol = \"NSE:NIFTY50-INDEX\"\n",
    "resolution_1 = \"1\"\n",
    "resolution_2 = \"5\"\n",
    "\n",
    "response_1 = fyers.history(data={\n",
    "                                \"symbol\": symbol,\n",
    "                                \"resolution\": resolution_1,\n",
    "                                \"date_format\": \"1\",\n",
    "                                \"range_from\": date_100_p,\n",
    "                                \"range_to\": date_yesterday,\n",
    "                                \"cont_flag\": \"1\"\n",
    "                        })\n",
    "\n",
    "response_2 = fyers.history(data={\n",
    "                                \"symbol\": symbol,\n",
    "                                \"resolution\": resolution_2,\n",
    "                                \"date_format\": \"1\",\n",
    "                                \"range_from\": date_100_p,\n",
    "                                \"range_to\": date_yesterday,\n",
    "                                \"cont_flag\": \"1\"\n",
    "                        })\n",
    "\n",
    "len(response_1['candles']), len(response_2['candles'])"
   ]
  },
  {
   "cell_type": "code",
   "execution_count": 14,
   "id": "a9c70ab0-0fc5-4507-940b-3167337d40b1",
   "metadata": {},
   "outputs": [
    {
     "data": {
      "text/plain": [
       "26250"
      ]
     },
     "execution_count": 14,
     "metadata": {},
     "output_type": "execute_result"
    }
   ],
   "source": [
    "date_temp = []\n",
    "final_candles_list_1 = []\n",
    "for i in response_1['candles']:\n",
    "    if i[0] not in date_temp:\n",
    "        final_candles_list_1.append(i)\n",
    "        date_temp.append(i[0])\n",
    "del date_temp\n",
    "len(final_candles_list_1)"
   ]
  },
  {
   "cell_type": "code",
   "execution_count": 18,
   "id": "bf2c8dc1-d72f-440b-a299-75b88eb85483",
   "metadata": {},
   "outputs": [
    {
     "data": {
      "text/plain": [
       "5250"
      ]
     },
     "execution_count": 18,
     "metadata": {},
     "output_type": "execute_result"
    }
   ],
   "source": [
    "date_temp = []\n",
    "final_candles_list_2 = []\n",
    "for i in response_2['candles']:\n",
    "    if i[0] not in date_temp:\n",
    "        final_candles_list_2.append(i)\n",
    "        date_temp.append(i[0])\n",
    "del date_temp\n",
    "len(final_candles_list_2)"
   ]
  },
  {
   "cell_type": "code",
   "execution_count": 15,
   "id": "b6bcfbcc-8ca9-4396-8f15-8c5daeda5c05",
   "metadata": {},
   "outputs": [
    {
     "data": {
      "text/plain": [
       "(26250, 6)"
      ]
     },
     "execution_count": 15,
     "metadata": {},
     "output_type": "execute_result"
    }
   ],
   "source": [
    "candles_1 = np.array(final_candles_list_1)\n",
    "candles_1.shape"
   ]
  },
  {
   "cell_type": "code",
   "execution_count": 19,
   "id": "b76a329b-e498-400f-953a-fc616694ea02",
   "metadata": {},
   "outputs": [
    {
     "data": {
      "text/plain": [
       "(5250, 6)"
      ]
     },
     "execution_count": 19,
     "metadata": {},
     "output_type": "execute_result"
    }
   ],
   "source": [
    "candles_2 = np.array(final_candles_list_2)\n",
    "candles_2.shape"
   ]
  },
  {
   "cell_type": "code",
   "execution_count": 16,
   "id": "b4289162-36ae-47b8-a30e-399379f87473",
   "metadata": {},
   "outputs": [
    {
     "data": {
      "text/plain": [
       "(26250, 10)"
      ]
     },
     "execution_count": 16,
     "metadata": {},
     "output_type": "execute_result"
    }
   ],
   "source": [
    "sync_1 = SyncInd(\n",
    "    Alligator(show_jaw=False, show_teeth=False),\n",
    "    KAMA(highlight=True),\n",
    "    SMA(5),\n",
    ")\n",
    "\n",
    "for c in candles_1:\n",
    "    sync_1.append(c)\n",
    "sync_1.data().shape"
   ]
  },
  {
   "cell_type": "code",
   "execution_count": 20,
   "id": "a7adbd04-5441-4318-9c92-fadc0e5c0f64",
   "metadata": {},
   "outputs": [
    {
     "data": {
      "text/plain": [
       "(5250, 10)"
      ]
     },
     "execution_count": 20,
     "metadata": {},
     "output_type": "execute_result"
    }
   ],
   "source": [
    "sync_2 = SyncInd(\n",
    "    Alligator(show_jaw=False, show_teeth=False),\n",
    "    KAMA(highlight=True),\n",
    "    SMA(5),\n",
    ")\n",
    "\n",
    "for c in candles_2:\n",
    "    sync_2.append(c)\n",
    "sync_2.data().shape"
   ]
  },
  {
   "cell_type": "code",
   "execution_count": 22,
   "id": "c54ff8a9-b944-4478-a73a-b934ad3349b9",
   "metadata": {},
   "outputs": [
    {
     "name": "stdout",
     "output_type": "stream",
     "text": [
      "<class 'numpy.ndarray'>\n"
     ]
    }
   ],
   "source": [
    "X, y = [], []\n",
    "prev_ind = 0\n",
    "for i in sync_2.data():\n",
    "    for j in range(3):\n",
    "        u"
   ]
  },
  {
   "cell_type": "code",
   "execution_count": null,
   "id": "2e9c8996-ffb1-4bc9-acb6-b06ba5e1afdf",
   "metadata": {},
   "outputs": [],
   "source": []
  }
 ],
 "metadata": {
  "kernelspec": {
   "display_name": "Python 3 (ipykernel)",
   "language": "python",
   "name": "python3"
  },
  "language_info": {
   "codemirror_mode": {
    "name": "ipython",
    "version": 3
   },
   "file_extension": ".py",
   "mimetype": "text/x-python",
   "name": "python",
   "nbconvert_exporter": "python",
   "pygments_lexer": "ipython3",
   "version": "3.11.9"
  }
 },
 "nbformat": 4,
 "nbformat_minor": 5
}
