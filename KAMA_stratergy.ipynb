{
 "cells": [
  {
   "cell_type": "code",
   "execution_count": 1,
   "id": "7c42d714-9db9-4f1a-a931-72c269c2f176",
   "metadata": {},
   "outputs": [],
   "source": [
    "import time, datetime\n",
    "from fyers_apiv3 import fyersModel\n",
    "client_id = \"ZHQ4IJL7TI-100\"\n",
    "with open(\"access_token\", \"r\") as f:\n",
    "    access_token = f.read()\n",
    "\n",
    "fyers = fyersModel.FyersModel(client_id=client_id, is_async=False, token=access_token, log_path=\"\")"
   ]
  },
  {
   "cell_type": "code",
   "execution_count": 2,
   "id": "69943edd-38a1-48b4-b62e-fd3799fa47b5",
   "metadata": {},
   "outputs": [],
   "source": [
    "import matplotlib.pyplot as plt\n",
    "import numpy as np"
   ]
  },
  {
   "cell_type": "code",
   "execution_count": 3,
   "id": "e8c5b87e-cc99-45e6-bfea-34f5b5a4f333",
   "metadata": {},
   "outputs": [],
   "source": [
    "from indicators.syncind import SyncInd\n",
    "from indicators.classic import SMA, Alligator, SmoothMA, RSI, MACD, ATR, WMA, EMA, RMA, VolumeROC, KAMA\n",
    "from indicators.candle import OHLC\n",
    "from indicators.trade import *"
   ]
  },
  {
   "cell_type": "code",
   "execution_count": 4,
   "id": "0b74acfe-bd0a-4a49-89d7-2fe4c662719b",
   "metadata": {},
   "outputs": [],
   "source": [
    "balance = Balance(5000)\n",
    "broker = Broker(balance)"
   ]
  },
  {
   "cell_type": "code",
   "execution_count": 5,
   "id": "44996a21-160c-4f2f-b486-a72ed2a527ff",
   "metadata": {},
   "outputs": [
    {
     "data": {
      "text/plain": [
       "('2024-11-25', '2024-08-17')"
      ]
     },
     "execution_count": 5,
     "metadata": {},
     "output_type": "execute_result"
    }
   ],
   "source": [
    "date_today = datetime.datetime.now().strftime(\"%Y-%m-%d\")\n",
    "date_100_p = (datetime.datetime.now() - datetime.timedelta(days=100)).strftime(\"%Y-%m-%d\")\n",
    "date_today, date_100_p"
   ]
  },
  {
   "cell_type": "code",
   "execution_count": 6,
   "id": "cfec36d8-bb94-40b9-9655-6aa7304b3a26",
   "metadata": {
    "scrolled": true
   },
   "outputs": [
    {
     "data": {
      "text/plain": [
       "(750, 25560)"
      ]
     },
     "execution_count": 6,
     "metadata": {},
     "output_type": "execute_result"
    }
   ],
   "source": [
    "response_1 = fyers.history(data={\n",
    "                                \"symbol\": \"NSE:NIFTY50-INDEX\",\n",
    "                                \"resolution\": \"1\",\n",
    "                                \"date_format\": \"1\",\n",
    "                                \"range_from\": date_today,\n",
    "                                \"range_to\": date_today,\n",
    "                                \"cont_flag\": \"1\"\n",
    "                                })\n",
    "response_1_bts = fyers.history(data={\n",
    "                                \"symbol\": \"NSE:NIFTY50-INDEX\",\n",
    "                                \"resolution\": \"1\",\n",
    "                                \"date_format\": \"1\",\n",
    "                                \"range_from\": date_100_p,\n",
    "                                \"range_to\": date_today,\n",
    "                                \"cont_flag\": \"1\"\n",
    "                                })\n",
    "\n",
    "len(response_1['candles']), len(response_1_bts['candles'])"
   ]
  },
  {
   "cell_type": "code",
   "execution_count": 7,
   "id": "924bf0a6-2c06-474b-9656-de96c10fb50a",
   "metadata": {},
   "outputs": [
    {
     "data": {
      "text/plain": [
       "(150, 5112)"
      ]
     },
     "execution_count": 7,
     "metadata": {},
     "output_type": "execute_result"
    }
   ],
   "source": [
    "response_5 = fyers.history(data={\n",
    "                                \"symbol\": \"NSE:NIFTY50-INDEX\",\n",
    "                                \"resolution\": \"5\",\n",
    "                                \"date_format\": \"1\",\n",
    "                                \"range_from\": date_today,\n",
    "                                \"range_to\": date_today,\n",
    "                                \"cont_flag\": \"1\"\n",
    "                                })\n",
    "\n",
    "response_5_bts = fyers.history(data={\n",
    "                                \"symbol\": \"NSE:NIFTY50-INDEX\",\n",
    "                                \"resolution\": \"5\",\n",
    "                                \"date_format\": \"1\",\n",
    "                                \"range_from\": date_100_p,\n",
    "                                \"range_to\": date_today,\n",
    "                                \"cont_flag\": \"1\"\n",
    "                                })\n",
    "\n",
    "len(response_5['candles']), len(response_5_bts['candles'])"
   ]
  },
  {
   "cell_type": "code",
   "execution_count": 8,
   "id": "acabd56b-b0d4-4ddc-a52f-14476b062b2d",
   "metadata": {},
   "outputs": [
    {
     "data": {
      "text/plain": [
       "375"
      ]
     },
     "execution_count": 8,
     "metadata": {},
     "output_type": "execute_result"
    }
   ],
   "source": [
    "date_temp = []\n",
    "final_candles_list_1 = []\n",
    "for i in response_1['candles']:\n",
    "    if i[0] not in date_temp:\n",
    "        final_candles_list_1.append(i)\n",
    "        date_temp.append(i[0])\n",
    "del date_temp\n",
    "len(final_candles_list_1)"
   ]
  },
  {
   "cell_type": "code",
   "execution_count": 9,
   "id": "c3f91142-c820-4ed6-b34b-20a84a1274c9",
   "metadata": {},
   "outputs": [
    {
     "data": {
      "text/plain": [
       "375"
      ]
     },
     "execution_count": 9,
     "metadata": {},
     "output_type": "execute_result"
    }
   ],
   "source": [
    "date_temp = []\n",
    "final_candles_list_1_bts = []\n",
    "for i in response_1['candles']:\n",
    "    if i[0] not in date_temp:\n",
    "        final_candles_list_1_bts.append(i)\n",
    "        date_temp.append(i[0])\n",
    "del date_temp\n",
    "len(final_candles_list_1_bts)"
   ]
  },
  {
   "cell_type": "code",
   "execution_count": 10,
   "id": "3890d768-4a59-4ed5-987f-762a927a5d43",
   "metadata": {},
   "outputs": [
    {
     "data": {
      "text/plain": [
       "75"
      ]
     },
     "execution_count": 10,
     "metadata": {},
     "output_type": "execute_result"
    }
   ],
   "source": [
    "date_temp = []\n",
    "final_candles_list_5 = []\n",
    "for i in response_5['candles']:\n",
    "    if i[0] not in date_temp:\n",
    "        final_candles_list_5.append(i)\n",
    "        date_temp.append(i[0])\n",
    "del date_temp\n",
    "len(final_candles_list_5)"
   ]
  },
  {
   "cell_type": "code",
   "execution_count": 11,
   "id": "7d87449f-375d-4186-9d81-ac475664c0f2",
   "metadata": {},
   "outputs": [
    {
     "data": {
      "text/plain": [
       "75"
      ]
     },
     "execution_count": 11,
     "metadata": {},
     "output_type": "execute_result"
    }
   ],
   "source": [
    "date_temp = []\n",
    "final_candles_list_5_bts = []\n",
    "for i in response_5['candles']:\n",
    "    if i[0] not in date_temp:\n",
    "        final_candles_list_5_bts.append(i)\n",
    "        date_temp.append(i[0])\n",
    "del date_temp\n",
    "len(final_candles_list_5_bts)"
   ]
  },
  {
   "cell_type": "code",
   "execution_count": 12,
   "id": "a52eaf7c-bc10-4627-a95a-b69d200b82e8",
   "metadata": {},
   "outputs": [
    {
     "data": {
      "text/plain": [
       "(375, 6)"
      ]
     },
     "execution_count": 12,
     "metadata": {},
     "output_type": "execute_result"
    }
   ],
   "source": [
    "candles_1 = np.array(final_candles_list_1)\n",
    "candles_1.shape"
   ]
  },
  {
   "cell_type": "code",
   "execution_count": 13,
   "id": "0ef83bc7-146c-4d10-a26b-83da8c1d43ca",
   "metadata": {},
   "outputs": [
    {
     "data": {
      "text/plain": [
       "(375, 6)"
      ]
     },
     "execution_count": 13,
     "metadata": {},
     "output_type": "execute_result"
    }
   ],
   "source": [
    "candles_1_bts = np.array(final_candles_list_1_bts)\n",
    "candles_1_bts.shape"
   ]
  },
  {
   "cell_type": "code",
   "execution_count": 14,
   "id": "b3d7eeff-8a79-452b-90ab-f6ca06220524",
   "metadata": {
    "scrolled": true
   },
   "outputs": [
    {
     "data": {
      "text/plain": [
       "(75, 6)"
      ]
     },
     "execution_count": 14,
     "metadata": {},
     "output_type": "execute_result"
    }
   ],
   "source": [
    "candles_5 = np.array(final_candles_list_5)\n",
    "candles_5.shape"
   ]
  },
  {
   "cell_type": "code",
   "execution_count": 15,
   "id": "76a1d397-1a67-41fa-b5e0-fe61a1edd835",
   "metadata": {
    "scrolled": true
   },
   "outputs": [
    {
     "data": {
      "text/plain": [
       "(75, 6)"
      ]
     },
     "execution_count": 15,
     "metadata": {},
     "output_type": "execute_result"
    }
   ],
   "source": [
    "candles_5_bts = np.array(final_candles_list_5_bts)\n",
    "candles_5_bts.shape"
   ]
  },
  {
   "cell_type": "code",
   "execution_count": 16,
   "id": "5820f68d-56e9-4699-8898-6411b287d931",
   "metadata": {},
   "outputs": [
    {
     "data": {
      "text/plain": [
       "((450, 8), (0,))"
      ]
     },
     "execution_count": 16,
     "metadata": {},
     "output_type": "execute_result"
    }
   ],
   "source": [
    "sync_1 = SyncInd( \n",
    "    # SMA(5),\n",
    "    # Alligator(show_jaw=False, show_teeth=False)\n",
    "    KAMA(highlight=True)\n",
    ")\n",
    "for c in candles_1_bts:\n",
    "    sync_1.append(c)\n",
    "                \n",
    "sync_5 = SyncInd( \n",
    "    # SMA(5),\n",
    "    # Alligator(show_jaw=False, show_teeth=False)\n",
    "    KAMA(highlight=True)\n",
    ")\n",
    "for c in candles_5_bts:\n",
    "    sync_1.append(c)\n",
    "sync_1.data().shape, sync_5.data().shape"
   ]
  },
  {
   "cell_type": "code",
   "execution_count": 17,
   "id": "fc6191aa-93fb-454d-9387-e534aff20350",
   "metadata": {},
   "outputs": [
    {
     "name": "stdout",
     "output_type": "stream",
     "text": [
      "upper treand started : 11/25/24 10-39\n",
      "upper treand ended : 11/25/24 10-47\n",
      "upper treand started : 11/25/24 10-54\n",
      "upper treand ended : 11/25/24 11-00\n",
      "upper treand started : 11/25/24 13-25\n",
      "upper treand ended : 11/25/24 13-30\n",
      "upper treand started : 11/25/24 14-04\n",
      "upper treand ended : 11/25/24 14-10\n",
      "upper treand started : 11/25/24 14-25\n",
      "upper treand ended : 11/25/24 14-29\n",
      "upper treand started : 11/25/24 15-06\n",
      "upper treand ended : 11/25/24 15-10\n"
     ]
    }
   ],
   "source": [
    "ind = 0\n",
    "trend_ = 0\n",
    "\n",
    "for c5 in candles_5:\n",
    "    for _ in range(5):\n",
    "        sync_1.append(candles_1[ind+_])\n",
    "        # print(\"1m :\", datetime.datetime.fromtimestamp(int(sync_1.last_candle()[0])).strftime(\"%D %H-%M\"))\n",
    "        if sync_1.data()[-2][-1] == 1 and sync_1.data()[-1][-1] and trend_ == 1:\n",
    "            print(\"upper treand ended :\", datetime.datetime.fromtimestamp(int(sync_1.last_candle()[0])).strftime(\"%D %H-%M\"))\n",
    "            trend_ = 0\n",
    "\n",
    "    sync_5.append(c5)\n",
    "    # print(\"\\t5m :\", datetime.datetime.fromtimestamp(int(sync_5.last_candle()[0])).strftime(\"%D %H-%M\"))\n",
    "    if sync_5.data()[-1][-1] == 1 and sync_5.data()[-2][-1] == -1 and trend_ == 0:\n",
    "        print(\"upper treand started :\", datetime.datetime.fromtimestamp(int(sync_5.last_candle()[0])).strftime(\"%D %H-%M\"))\n",
    "        trend_ = 1\n",
    "    \n",
    "    ind = ind+_+1\n"
   ]
  },
  {
   "cell_type": "code",
   "execution_count": 18,
   "id": "77f637c7-3a58-4873-85d9-f1265c649bed",
   "metadata": {},
   "outputs": [
    {
     "data": {
      "text/plain": [
       "[1732528500, 24249.95, 24260.9, 24240, 24250.8, 0]"
      ]
     },
     "execution_count": 18,
     "metadata": {},
     "output_type": "execute_result"
    }
   ],
   "source": [
    "i"
   ]
  }
 ],
 "metadata": {
  "kernelspec": {
   "display_name": "Python 3 (ipykernel)",
   "language": "python",
   "name": "python3"
  },
  "language_info": {
   "codemirror_mode": {
    "name": "ipython",
    "version": 3
   },
   "file_extension": ".py",
   "mimetype": "text/x-python",
   "name": "python",
   "nbconvert_exporter": "python",
   "pygments_lexer": "ipython3",
   "version": "3.11.9"
  }
 },
 "nbformat": 4,
 "nbformat_minor": 5
}
