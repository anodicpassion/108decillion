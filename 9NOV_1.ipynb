{
 "cells": [
  {
   "cell_type": "code",
   "execution_count": 1,
   "id": "36d58c59-d0ec-41fb-ac48-8e4adf963352",
   "metadata": {},
   "outputs": [],
   "source": [
    "import pandas as pd\n",
    "import numpy as np\n",
    "from fyers_apiv3 import fyersModel\n",
    "import tensorflow as tf\n",
    "from indicators import alligator, vroc, sma, epoch_to_time, time_to_epoch\n",
    "import pandas as pd\n",
    "import numpy as np\n",
    "import time, datetime\n",
    "client_id = \"ZHQ4IJL7TI-100\"\n",
    "model = tf.keras.models.load_model(\"07OCT.keras\")\n",
    "with open(\"access_token\", \"r\") as f:\n",
    "    access_token = f.read()\n",
    "\n",
    "fyers = fyersModel.FyersModel(client_id=client_id, is_async=False, token=access_token, log_path=\"\")"
   ]
  },
  {
   "cell_type": "code",
   "execution_count": null,
   "id": "b791f52b-7292-41c4-b56b-fd2c92dcccbc",
   "metadata": {},
   "outputs": [],
   "source": [
    "date_today = datetime.datetime.now().strftime(\"%Y-%m-%d\")\n",
    "date_100_p = (datetime.datetime.now() - datetime.timedelta(days=100)).strftime(\"%Y-%m-%d\")\n",
    "date_today, date_100_p"
   ]
  },
  {
   "cell_type": "code",
   "execution_count": null,
   "id": "30250cba-4bf2-44e9-b30b-934851b08724",
   "metadata": {},
   "outputs": [],
   "source": [
    "response = fyers.history(data={\"symbol\": \"NSE:NIFTY24OCT24200CE\",\n",
    "                                \"resolution\": \"1\",\n",
    "                                 \"date_format\": \"1\",\n",
    "                                \"range_from\": \"2024-10-17\",\n",
    "                                \"range_to\": \"2024-10-25\",\n",
    "                                \"cont_flag\": \"1\"\n",
    "                                })\n",
    "\n",
    "len(response['candles']), response"
   ]
  }
 ],
 "metadata": {
  "kernelspec": {
   "display_name": "Python 3 (ipykernel)",
   "language": "python",
   "name": "python3"
  },
  "language_info": {
   "codemirror_mode": {
    "name": "ipython",
    "version": 3
   },
   "file_extension": ".py",
   "mimetype": "text/x-python",
   "name": "python",
   "nbconvert_exporter": "python",
   "pygments_lexer": "ipython3",
   "version": "3.11.9"
  }
 },
 "nbformat": 4,
 "nbformat_minor": 5
}
