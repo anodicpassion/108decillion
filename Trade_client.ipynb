{
 "cells": [
  {
   "cell_type": "code",
   "execution_count": 1,
   "id": "5e00a8b2-fb86-4ac4-b85a-dce4cf1a4d61",
   "metadata": {},
   "outputs": [],
   "source": [
    "from indicators.trade import *"
   ]
  },
  {
   "cell_type": "code",
   "execution_count": 2,
   "id": "2bc6348e-b36a-4d12-a4e6-b2ea37af25da",
   "metadata": {},
   "outputs": [],
   "source": [
    "balance = Balance(500)"
   ]
  },
  {
   "cell_type": "code",
   "execution_count": 3,
   "id": "b20df0fa-6ba5-49a9-9c5b-bf0418b933c9",
   "metadata": {},
   "outputs": [],
   "source": [
    "broker = Broker(balance)"
   ]
  },
  {
   "cell_type": "code",
   "execution_count": 4,
   "id": "2557d880-0a4d-4ec6-88f8-035435e503eb",
   "metadata": {},
   "outputs": [],
   "source": [
    "trade_1 = broker()"
   ]
  },
  {
   "cell_type": "code",
   "execution_count": 5,
   "id": "089fc485-f590-4107-8b8c-9174f83e77e1",
   "metadata": {},
   "outputs": [],
   "source": [
    "broker.buy(trade_1, 4)"
   ]
  },
  {
   "cell_type": "code",
   "execution_count": 6,
   "id": "c5cfc94b-ab64-4a9d-b37b-e15fb3511fcf",
   "metadata": {},
   "outputs": [
    {
     "data": {
      "text/plain": [
       "{0: [500, 4]}"
      ]
     },
     "execution_count": 6,
     "metadata": {},
     "output_type": "execute_result"
    }
   ],
   "source": [
    "broker.trade_stats()"
   ]
  },
  {
   "cell_type": "code",
   "execution_count": 7,
   "id": "a32c7716-7212-4705-b8c7-63c1e0691034",
   "metadata": {},
   "outputs": [],
   "source": [
    "broker.sell(trade_1, 9)"
   ]
  },
  {
   "cell_type": "code",
   "execution_count": 8,
   "id": "0c3e9a09-10cb-42e6-9a6e-6c8c40ab1aed",
   "metadata": {},
   "outputs": [
    {
     "data": {
      "text/plain": [
       "{0: [500, 4, 9, 505]}"
      ]
     },
     "execution_count": 8,
     "metadata": {},
     "output_type": "execute_result"
    }
   ],
   "source": [
    "broker.trade_stats()"
   ]
  },
  {
   "cell_type": "code",
   "execution_count": null,
   "id": "4b930f21-5498-4e1d-ad43-663a7666d7b2",
   "metadata": {},
   "outputs": [],
   "source": []
  }
 ],
 "metadata": {
  "kernelspec": {
   "display_name": "Python 3 (ipykernel)",
   "language": "python",
   "name": "python3"
  },
  "language_info": {
   "codemirror_mode": {
    "name": "ipython",
    "version": 3
   },
   "file_extension": ".py",
   "mimetype": "text/x-python",
   "name": "python",
   "nbconvert_exporter": "python",
   "pygments_lexer": "ipython3",
   "version": "3.11.9"
  }
 },
 "nbformat": 4,
 "nbformat_minor": 5
}
