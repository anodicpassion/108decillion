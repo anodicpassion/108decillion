{
 "cells": [
  {
   "cell_type": "code",
   "execution_count": 1,
   "id": "f129f051-0c4c-486c-9b22-4c48c9241f0b",
   "metadata": {},
   "outputs": [],
   "source": [
    "import tensorflow as tf\n",
    "from tensorflow.keras.models import Sequential\n",
    "from tensorflow.keras.layers import LSTM, Dense, Dropout, Reshape, Input, Flatten\n",
    "from sklearn.model_selection import train_test_split"
   ]
  },
  {
   "cell_type": "code",
   "execution_count": 2,
   "id": "9161d1a7-1b5c-4326-a7fb-4f44478bc24e",
   "metadata": {},
   "outputs": [],
   "source": [
    "import time, datetime\n",
    "from fyers_apiv3 import fyersModel\n",
    "client_id = \"ZHQ4IJL7TI-100\"\n",
    "with open(\"access_token\", \"r\") as f:\n",
    "    access_token = f.read()\n",
    "\n",
    "fyers = fyersModel.FyersModel(client_id=client_id, is_async=False, token=access_token, log_path=\"\")"
   ]
  },
  {
   "cell_type": "code",
   "execution_count": 110,
   "id": "edf60796-3491-4932-95d4-7ef059b65cd6",
   "metadata": {},
   "outputs": [],
   "source": [
    "import matplotlib.pyplot as plt\n",
    "import numpy as np\n",
    "import os"
   ]
  },
  {
   "cell_type": "code",
   "execution_count": 4,
   "id": "57e73945-9c22-4b8f-a3d8-7da741aa22d7",
   "metadata": {},
   "outputs": [],
   "source": [
    "from indicators.syncind import SyncInd\n",
    "from indicators.classic import SMA, Alligator, SmoothMA, RSI, MACD, ATR, WMA, EMA, RMA, VolumeROC, KAMA\n",
    "from indicators.candle import OHLC"
   ]
  },
  {
   "cell_type": "code",
   "execution_count": 5,
   "id": "da6bffe8-3c5a-495b-87d9-c86c4449460b",
   "metadata": {},
   "outputs": [
    {
     "data": {
      "text/plain": [
       "('2024-11-25', '2024-08-18')"
      ]
     },
     "execution_count": 5,
     "metadata": {},
     "output_type": "execute_result"
    }
   ],
   "source": [
    "date_today = datetime.datetime.now().strftime(\"%Y-%m-%d\")\n",
    "date_yesterday = (datetime.datetime.now() - datetime.timedelta(days=1)).strftime(\"%Y-%m-%d\")\n",
    "date_100_p = (datetime.datetime.now() - datetime.timedelta(days=100)).strftime(\"%Y-%m-%d\")\n",
    "date_yesterday, date_100_p"
   ]
  },
  {
   "cell_type": "code",
   "execution_count": 6,
   "id": "0aafc31f-21fb-400b-906a-42adb5126db6",
   "metadata": {},
   "outputs": [
    {
     "data": {
      "text/plain": [
       "25185"
      ]
     },
     "execution_count": 6,
     "metadata": {},
     "output_type": "execute_result"
    }
   ],
   "source": [
    "response = fyers.history(data={\n",
    "                                \"symbol\": \"NSE:ZEEL-EQ\",\n",
    "                                \"resolution\": \"1\",\n",
    "                                \"date_format\": \"1\",\n",
    "                                \"range_from\": date_100_p,\n",
    "                                \"range_to\": date_yesterday,\n",
    "                                \"cont_flag\": \"1\"\n",
    "                                })\n",
    "\n",
    "len(response['candles'])"
   ]
  },
  {
   "cell_type": "code",
   "execution_count": 7,
   "id": "f35982cc-7ce6-4952-a536-e0eb7a02e24a",
   "metadata": {},
   "outputs": [
    {
     "data": {
      "text/plain": [
       "25185"
      ]
     },
     "execution_count": 7,
     "metadata": {},
     "output_type": "execute_result"
    }
   ],
   "source": [
    "date_temp = []\n",
    "final_candles_list = []\n",
    "for i in response['candles']:\n",
    "    if i[0] not in date_temp:\n",
    "        final_candles_list.append(i)\n",
    "        date_temp.append(i[0])\n",
    "del date_temp\n",
    "len(final_candles_list)"
   ]
  },
  {
   "cell_type": "code",
   "execution_count": 8,
   "id": "6a49439d-1656-40da-92b5-afbe35e05578",
   "metadata": {},
   "outputs": [
    {
     "data": {
      "text/plain": [
       "(25185, 6)"
      ]
     },
     "execution_count": 8,
     "metadata": {},
     "output_type": "execute_result"
    }
   ],
   "source": [
    "candles = np.array(final_candles_list)\n",
    "candles.shape"
   ]
  },
  {
   "cell_type": "code",
   "execution_count": 9,
   "id": "cbcc50c6-54b6-4a1c-868d-a47e1c284126",
   "metadata": {},
   "outputs": [
    {
     "data": {
      "text/plain": [
       "(25185, 9)"
      ]
     },
     "execution_count": 9,
     "metadata": {},
     "output_type": "execute_result"
    }
   ],
   "source": [
    "sync = SyncInd(\n",
    "    SMA(5),\n",
    "    # Alligator(show_jaw=False, show_teeth=False)\n",
    "    KAMA(highlight=True)\n",
    ")\n",
    "\n",
    "for c in candles:\n",
    "    sync.append(c)\n",
    "sync.data().shape"
   ]
  },
  {
   "cell_type": "code",
   "execution_count": 10,
   "id": "d3554ac2-0b21-442c-8f4c-78f5ca3423e5",
   "metadata": {},
   "outputs": [
    {
     "data": {
      "text/html": [
       "<pre style=\"white-space:pre;overflow-x:auto;line-height:normal;font-family:Menlo,'DejaVu Sans Mono',consolas,'Courier New',monospace\"><span style=\"font-weight: bold\">Model: \"sequential\"</span>\n",
       "</pre>\n"
      ],
      "text/plain": [
       "\u001b[1mModel: \"sequential\"\u001b[0m\n"
      ]
     },
     "metadata": {},
     "output_type": "display_data"
    },
    {
     "data": {
      "text/html": [
       "<pre style=\"white-space:pre;overflow-x:auto;line-height:normal;font-family:Menlo,'DejaVu Sans Mono',consolas,'Courier New',monospace\">┏━━━━━━━━━━━━━━━━━━━━━━━━━━━━━━━━━┳━━━━━━━━━━━━━━━━━━━━━━━━┳━━━━━━━━━━━━━━━┓\n",
       "┃<span style=\"font-weight: bold\"> Layer (type)                    </span>┃<span style=\"font-weight: bold\"> Output Shape           </span>┃<span style=\"font-weight: bold\">       Param # </span>┃\n",
       "┡━━━━━━━━━━━━━━━━━━━━━━━━━━━━━━━━━╇━━━━━━━━━━━━━━━━━━━━━━━━╇━━━━━━━━━━━━━━━┩\n",
       "│ lstm (<span style=\"color: #0087ff; text-decoration-color: #0087ff\">LSTM</span>)                     │ (<span style=\"color: #00d7ff; text-decoration-color: #00d7ff\">None</span>, <span style=\"color: #00af00; text-decoration-color: #00af00\">8</span>, <span style=\"color: #00af00; text-decoration-color: #00af00\">200</span>)         │       <span style=\"color: #00af00; text-decoration-color: #00af00\">166,400</span> │\n",
       "├─────────────────────────────────┼────────────────────────┼───────────────┤\n",
       "│ dropout (<span style=\"color: #0087ff; text-decoration-color: #0087ff\">Dropout</span>)               │ (<span style=\"color: #00d7ff; text-decoration-color: #00d7ff\">None</span>, <span style=\"color: #00af00; text-decoration-color: #00af00\">8</span>, <span style=\"color: #00af00; text-decoration-color: #00af00\">200</span>)         │             <span style=\"color: #00af00; text-decoration-color: #00af00\">0</span> │\n",
       "├─────────────────────────────────┼────────────────────────┼───────────────┤\n",
       "│ lstm_1 (<span style=\"color: #0087ff; text-decoration-color: #0087ff\">LSTM</span>)                   │ (<span style=\"color: #00d7ff; text-decoration-color: #00d7ff\">None</span>, <span style=\"color: #00af00; text-decoration-color: #00af00\">150</span>)            │       <span style=\"color: #00af00; text-decoration-color: #00af00\">210,600</span> │\n",
       "├─────────────────────────────────┼────────────────────────┼───────────────┤\n",
       "│ dropout_1 (<span style=\"color: #0087ff; text-decoration-color: #0087ff\">Dropout</span>)             │ (<span style=\"color: #00d7ff; text-decoration-color: #00d7ff\">None</span>, <span style=\"color: #00af00; text-decoration-color: #00af00\">150</span>)            │             <span style=\"color: #00af00; text-decoration-color: #00af00\">0</span> │\n",
       "├─────────────────────────────────┼────────────────────────┼───────────────┤\n",
       "│ dense (<span style=\"color: #0087ff; text-decoration-color: #0087ff\">Dense</span>)                   │ (<span style=\"color: #00d7ff; text-decoration-color: #00d7ff\">None</span>, <span style=\"color: #00af00; text-decoration-color: #00af00\">5</span>)              │           <span style=\"color: #00af00; text-decoration-color: #00af00\">755</span> │\n",
       "├─────────────────────────────────┼────────────────────────┼───────────────┤\n",
       "│ reshape (<span style=\"color: #0087ff; text-decoration-color: #0087ff\">Reshape</span>)               │ (<span style=\"color: #00d7ff; text-decoration-color: #00d7ff\">None</span>, <span style=\"color: #00af00; text-decoration-color: #00af00\">5</span>)              │             <span style=\"color: #00af00; text-decoration-color: #00af00\">0</span> │\n",
       "└─────────────────────────────────┴────────────────────────┴───────────────┘\n",
       "</pre>\n"
      ],
      "text/plain": [
       "┏━━━━━━━━━━━━━━━━━━━━━━━━━━━━━━━━━┳━━━━━━━━━━━━━━━━━━━━━━━━┳━━━━━━━━━━━━━━━┓\n",
       "┃\u001b[1m \u001b[0m\u001b[1mLayer (type)                   \u001b[0m\u001b[1m \u001b[0m┃\u001b[1m \u001b[0m\u001b[1mOutput Shape          \u001b[0m\u001b[1m \u001b[0m┃\u001b[1m \u001b[0m\u001b[1m      Param #\u001b[0m\u001b[1m \u001b[0m┃\n",
       "┡━━━━━━━━━━━━━━━━━━━━━━━━━━━━━━━━━╇━━━━━━━━━━━━━━━━━━━━━━━━╇━━━━━━━━━━━━━━━┩\n",
       "│ lstm (\u001b[38;5;33mLSTM\u001b[0m)                     │ (\u001b[38;5;45mNone\u001b[0m, \u001b[38;5;34m8\u001b[0m, \u001b[38;5;34m200\u001b[0m)         │       \u001b[38;5;34m166,400\u001b[0m │\n",
       "├─────────────────────────────────┼────────────────────────┼───────────────┤\n",
       "│ dropout (\u001b[38;5;33mDropout\u001b[0m)               │ (\u001b[38;5;45mNone\u001b[0m, \u001b[38;5;34m8\u001b[0m, \u001b[38;5;34m200\u001b[0m)         │             \u001b[38;5;34m0\u001b[0m │\n",
       "├─────────────────────────────────┼────────────────────────┼───────────────┤\n",
       "│ lstm_1 (\u001b[38;5;33mLSTM\u001b[0m)                   │ (\u001b[38;5;45mNone\u001b[0m, \u001b[38;5;34m150\u001b[0m)            │       \u001b[38;5;34m210,600\u001b[0m │\n",
       "├─────────────────────────────────┼────────────────────────┼───────────────┤\n",
       "│ dropout_1 (\u001b[38;5;33mDropout\u001b[0m)             │ (\u001b[38;5;45mNone\u001b[0m, \u001b[38;5;34m150\u001b[0m)            │             \u001b[38;5;34m0\u001b[0m │\n",
       "├─────────────────────────────────┼────────────────────────┼───────────────┤\n",
       "│ dense (\u001b[38;5;33mDense\u001b[0m)                   │ (\u001b[38;5;45mNone\u001b[0m, \u001b[38;5;34m5\u001b[0m)              │           \u001b[38;5;34m755\u001b[0m │\n",
       "├─────────────────────────────────┼────────────────────────┼───────────────┤\n",
       "│ reshape (\u001b[38;5;33mReshape\u001b[0m)               │ (\u001b[38;5;45mNone\u001b[0m, \u001b[38;5;34m5\u001b[0m)              │             \u001b[38;5;34m0\u001b[0m │\n",
       "└─────────────────────────────────┴────────────────────────┴───────────────┘\n"
      ]
     },
     "metadata": {},
     "output_type": "display_data"
    },
    {
     "data": {
      "text/html": [
       "<pre style=\"white-space:pre;overflow-x:auto;line-height:normal;font-family:Menlo,'DejaVu Sans Mono',consolas,'Courier New',monospace\"><span style=\"font-weight: bold\"> Total params: </span><span style=\"color: #00af00; text-decoration-color: #00af00\">1,133,267</span> (4.32 MB)\n",
       "</pre>\n"
      ],
      "text/plain": [
       "\u001b[1m Total params: \u001b[0m\u001b[38;5;34m1,133,267\u001b[0m (4.32 MB)\n"
      ]
     },
     "metadata": {},
     "output_type": "display_data"
    },
    {
     "data": {
      "text/html": [
       "<pre style=\"white-space:pre;overflow-x:auto;line-height:normal;font-family:Menlo,'DejaVu Sans Mono',consolas,'Courier New',monospace\"><span style=\"font-weight: bold\"> Trainable params: </span><span style=\"color: #00af00; text-decoration-color: #00af00\">377,755</span> (1.44 MB)\n",
       "</pre>\n"
      ],
      "text/plain": [
       "\u001b[1m Trainable params: \u001b[0m\u001b[38;5;34m377,755\u001b[0m (1.44 MB)\n"
      ]
     },
     "metadata": {},
     "output_type": "display_data"
    },
    {
     "data": {
      "text/html": [
       "<pre style=\"white-space:pre;overflow-x:auto;line-height:normal;font-family:Menlo,'DejaVu Sans Mono',consolas,'Courier New',monospace\"><span style=\"font-weight: bold\"> Non-trainable params: </span><span style=\"color: #00af00; text-decoration-color: #00af00\">0</span> (0.00 B)\n",
       "</pre>\n"
      ],
      "text/plain": [
       "\u001b[1m Non-trainable params: \u001b[0m\u001b[38;5;34m0\u001b[0m (0.00 B)\n"
      ]
     },
     "metadata": {},
     "output_type": "display_data"
    },
    {
     "data": {
      "text/html": [
       "<pre style=\"white-space:pre;overflow-x:auto;line-height:normal;font-family:Menlo,'DejaVu Sans Mono',consolas,'Courier New',monospace\"><span style=\"font-weight: bold\"> Optimizer params: </span><span style=\"color: #00af00; text-decoration-color: #00af00\">755,512</span> (2.88 MB)\n",
       "</pre>\n"
      ],
      "text/plain": [
       "\u001b[1m Optimizer params: \u001b[0m\u001b[38;5;34m755,512\u001b[0m (2.88 MB)\n"
      ]
     },
     "metadata": {},
     "output_type": "display_data"
    }
   ],
   "source": [
    "model = tf.keras.models.load_model(\"26NOV_2.keras\")\n",
    "model.summary()"
   ]
  },
  {
   "cell_type": "code",
   "execution_count": 130,
   "id": "daf90e2f-3893-46f3-a2bf-dabb4dcc3c05",
   "metadata": {
    "scrolled": true
   },
   "outputs": [
    {
     "data": {
      "text/plain": [
       "375"
      ]
     },
     "execution_count": 130,
     "metadata": {},
     "output_type": "execute_result"
    }
   ],
   "source": [
    "response_rt = fyers.history(data={\n",
    "                                \"symbol\": \"NSE:ZEEL-EQ\",\n",
    "                                \"resolution\": \"1\",\n",
    "                                \"date_format\": \"1\",\n",
    "                                \"range_from\": date_today,\n",
    "                                \"range_to\": date_today,\n",
    "                                \"cont_flag\": \"1\"\n",
    "                                })\n",
    "\n",
    "# the following comment code checks for the duplicates in the api data\n",
    "# uncomment it if duplicates in api response\n",
    "'''\n",
    "date_temp = []\n",
    "final_candles_list_rt = []\n",
    "for i in response_rt['candles']:\n",
    "    if i[0] not in date_temp:\n",
    "        final_candles_list_rt.append(i)\n",
    "        date_temp.append(i[0])\n",
    "    else:\n",
    "        print(\"duplicate detected \")\n",
    "del date_temp\n",
    "'''       \n",
    "candles = np.array(response_rt['candles'])\n",
    "for i in candles:\n",
    "    if sync.sync(i):\n",
    "        print(datetime.datetime.fromtimestamp(int(i[0])).strftime(\"%D %H:%M:%S\"))"
   ]
  },
  {
   "cell_type": "code",
   "execution_count": 86,
   "id": "91808e74-731f-4a38-beca-45e3a96f3166",
   "metadata": {},
   "outputs": [
    {
     "name": "stdout",
     "output_type": "stream",
     "text": [
      "11/26/24 14:21:12\n",
      "11/26/24 14:21:12\n",
      "11/26/24 14:23:20\n",
      "11/26/24 14:23:20\n",
      "11/26/24 14:23:20\n",
      "11/26/24 14:23:20\n",
      "11/26/24 14:23:20\n",
      "11/26/24 14:23:20\n",
      "11/26/24 14:23:20\n",
      "11/26/24 14:25:28\n"
     ]
    }
   ],
   "source": [
    "for s in sync.data()[-10:, 0]:\n",
    "    print(datetime.datetime.fromtimestamp(int(s)).strftime(\"%D %H:%M:%S\"))"
   ]
  },
  {
   "cell_type": "code",
   "execution_count": 17,
   "id": "30ed2067-bded-44a8-9e19-d83f1fce139b",
   "metadata": {
    "scrolled": true
   },
   "outputs": [],
   "source": [
    "for i in candles:\n",
    "    if sync.sync(i):\n",
    "        print(datetime.datetime.fromtimestamp(int(i[0])).strftime(\"%D %H:%M:%S\"))"
   ]
  },
  {
   "cell_type": "code",
   "execution_count": 64,
   "id": "4b05fe6e-eb52-44d0-866b-8bf71e7df930",
   "metadata": {},
   "outputs": [
    {
     "data": {
      "text/plain": [
       "True"
      ]
     },
     "execution_count": 64,
     "metadata": {},
     "output_type": "execute_result"
    }
   ],
   "source": [
    "datetime.datetime.fromtimestamp(int(sync.last_candle()[0])).strftime(\"%D %H:%M\") == datetime.datetime.fromtimestamp(int(candles[-1][0])).strftime(\"%D %H:%M\")"
   ]
  },
  {
   "cell_type": "code",
   "execution_count": 109,
   "id": "b8cefe89-c151-4449-9624-dbeedeca93b3",
   "metadata": {},
   "outputs": [
    {
     "name": "stdout",
     "output_type": "stream",
     "text": [
      "11/25/24 15:20:00\n",
      "11/25/24 15:21:00\n",
      "11/25/24 15:22:00\n",
      "11/25/24 15:23:00\n",
      "11/25/24 15:24:00\n",
      "11/25/24 15:25:00\n",
      "11/25/24 15:26:00\n",
      "11/25/24 15:27:00\n",
      "11/25/24 15:28:00\n",
      "11/25/24 15:29:00\n"
     ]
    }
   ],
   "source": [
    "for i in np.array(response['candles'])[-10:, 0]:\n",
    "    print(datetime.datetime.fromtimestamp(int(i)).strftime(\"%D %H:%M:%S\"))"
   ]
  },
  {
   "cell_type": "code",
   "execution_count": 132,
   "id": "a8dfc2d7-595a-405c-b575-09ad1ff9e3bd",
   "metadata": {},
   "outputs": [
    {
     "data": {
      "text/plain": [
       "375"
      ]
     },
     "execution_count": 132,
     "metadata": {},
     "output_type": "execute_result"
    }
   ],
   "source": [
    "len(candles)\n"
   ]
  }
 ],
 "metadata": {
  "kernelspec": {
   "display_name": "Python 3 (ipykernel)",
   "language": "python",
   "name": "python3"
  },
  "language_info": {
   "codemirror_mode": {
    "name": "ipython",
    "version": 3
   },
   "file_extension": ".py",
   "mimetype": "text/x-python",
   "name": "python",
   "nbconvert_exporter": "python",
   "pygments_lexer": "ipython3",
   "version": "3.11.9"
  }
 },
 "nbformat": 4,
 "nbformat_minor": 5
}
